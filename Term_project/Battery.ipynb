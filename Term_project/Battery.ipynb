{
 "cells": [
  {
   "cell_type": "markdown",
   "metadata": {},
   "source": [
    "# 1. Data exploring\n",
    "## Read dataset"
   ]
  },
  {
   "cell_type": "code",
   "execution_count": 1,
   "metadata": {},
   "outputs": [
    {
     "data": {
      "text/html": [
       "<div>\n",
       "<style scoped>\n",
       "    .dataframe tbody tr th:only-of-type {\n",
       "        vertical-align: middle;\n",
       "    }\n",
       "\n",
       "    .dataframe tbody tr th {\n",
       "        vertical-align: top;\n",
       "    }\n",
       "\n",
       "    .dataframe thead th {\n",
       "        text-align: right;\n",
       "    }\n",
       "</style>\n",
       "<table border=\"1\" class=\"dataframe\">\n",
       "  <thead>\n",
       "    <tr style=\"text-align: right;\">\n",
       "      <th></th>\n",
       "      <th>電池編號</th>\n",
       "      <th>V:測試電壓值</th>\n",
       "      <th>I:漏電流值</th>\n",
       "      <th>OM:絕緣電阻值</th>\n",
       "      <th>PF:結果判定</th>\n",
       "    </tr>\n",
       "  </thead>\n",
       "  <tbody>\n",
       "    <tr>\n",
       "      <th>0</th>\n",
       "      <td>Q123T2E1-001</td>\n",
       "      <td>248.943</td>\n",
       "      <td>0</td>\n",
       "      <td>1489600000</td>\n",
       "      <td>128</td>\n",
       "    </tr>\n",
       "    <tr>\n",
       "      <th>1</th>\n",
       "      <td>Q123T2E1-002</td>\n",
       "      <td>249.350</td>\n",
       "      <td>0</td>\n",
       "      <td>389639000</td>\n",
       "      <td>128</td>\n",
       "    </tr>\n",
       "    <tr>\n",
       "      <th>2</th>\n",
       "      <td>Q123T2E1-003</td>\n",
       "      <td>248.943</td>\n",
       "      <td>0</td>\n",
       "      <td>1607190000</td>\n",
       "      <td>128</td>\n",
       "    </tr>\n",
       "    <tr>\n",
       "      <th>3</th>\n",
       "      <td>Q123T2E1-004</td>\n",
       "      <td>248.535</td>\n",
       "      <td>0</td>\n",
       "      <td>213868000</td>\n",
       "      <td>66</td>\n",
       "    </tr>\n",
       "    <tr>\n",
       "      <th>4</th>\n",
       "      <td>Q123T2E1-004</td>\n",
       "      <td>249.758</td>\n",
       "      <td>0</td>\n",
       "      <td>414008000</td>\n",
       "      <td>128</td>\n",
       "    </tr>\n",
       "    <tr>\n",
       "      <th>5</th>\n",
       "      <td>Q123T2E1-005</td>\n",
       "      <td>249.350</td>\n",
       "      <td>0</td>\n",
       "      <td>1492030000</td>\n",
       "      <td>128</td>\n",
       "    </tr>\n",
       "    <tr>\n",
       "      <th>6</th>\n",
       "      <td>Q123T2E1-006</td>\n",
       "      <td>246.091</td>\n",
       "      <td>0</td>\n",
       "      <td>1472530000</td>\n",
       "      <td>128</td>\n",
       "    </tr>\n",
       "    <tr>\n",
       "      <th>7</th>\n",
       "      <td>Q123T2E1-007</td>\n",
       "      <td>248.943</td>\n",
       "      <td>0</td>\n",
       "      <td>1526840000</td>\n",
       "      <td>128</td>\n",
       "    </tr>\n",
       "    <tr>\n",
       "      <th>8</th>\n",
       "      <td>Q123T2E1-008</td>\n",
       "      <td>248.943</td>\n",
       "      <td>0</td>\n",
       "      <td>243320000</td>\n",
       "      <td>128</td>\n",
       "    </tr>\n",
       "    <tr>\n",
       "      <th>9</th>\n",
       "      <td>Q123T2E1-009</td>\n",
       "      <td>248.943</td>\n",
       "      <td>0</td>\n",
       "      <td>316442000</td>\n",
       "      <td>66</td>\n",
       "    </tr>\n",
       "  </tbody>\n",
       "</table>\n",
       "</div>"
      ],
      "text/plain": [
       "           電池編號  V:測試電壓值  I:漏電流值    OM:絕緣電阻值  PF:結果判定\n",
       "0  Q123T2E1-001  248.943       0  1489600000      128\n",
       "1  Q123T2E1-002  249.350       0   389639000      128\n",
       "2  Q123T2E1-003  248.943       0  1607190000      128\n",
       "3  Q123T2E1-004  248.535       0   213868000       66\n",
       "4  Q123T2E1-004  249.758       0   414008000      128\n",
       "5  Q123T2E1-005  249.350       0  1492030000      128\n",
       "6  Q123T2E1-006  246.091       0  1472530000      128\n",
       "7  Q123T2E1-007  248.943       0  1526840000      128\n",
       "8  Q123T2E1-008  248.943       0   243320000      128\n",
       "9  Q123T2E1-009  248.943       0   316442000       66"
      ]
     },
     "execution_count": 1,
     "metadata": {},
     "output_type": "execute_result"
    }
   ],
   "source": [
    "import os\n",
    "import numpy as np\n",
    "import pandas as pd\n",
    "from sklearn.model_selection import train_test_split\n",
    "from sklearn.metrics import classification_report, confusion_matrix\n",
    "import matplotlib.pyplot as plt\n",
    "from tqdm import tqdm, tqdm_notebook\n",
    "pd.set_option('display.max_rows', None)\n",
    "\n",
    "# Read dataset from directory\n",
    "df_hipot = pd.read_csv('data/Hi-pot.csv', encoding='gb18030')\n",
    "label_hipot = np.array(['電池編號', 'V:測試電壓值', 'I:漏電流值', 'OM:絕緣電阻值', 'PF:結果判定'])\n",
    "df_hipot.columns = label_hipot\n",
    "df_hipot.head(10)"
   ]
  },
  {
   "cell_type": "markdown",
   "metadata": {},
   "source": [
    "## Statistic analysis of data"
   ]
  },
  {
   "cell_type": "code",
   "execution_count": 2,
   "metadata": {
    "scrolled": false
   },
   "outputs": [
    {
     "name": "stdout",
     "output_type": "stream",
     "text": [
      "測試正常(128)\t: 5066\n",
      "充放電失敗(72)\t: 64\n",
      "電流過大(98)\t: 61\n",
      "讀值偏高(96)\t: 2\n",
      "接觸檢查失敗(68)\t: 0\n",
      "異常放電(66)\t: 271\n",
      "其他(74)\t: 7\n"
     ]
    },
    {
     "data": {
      "text/html": [
       "<div>\n",
       "<style scoped>\n",
       "    .dataframe tbody tr th:only-of-type {\n",
       "        vertical-align: middle;\n",
       "    }\n",
       "\n",
       "    .dataframe tbody tr th {\n",
       "        vertical-align: top;\n",
       "    }\n",
       "\n",
       "    .dataframe thead th {\n",
       "        text-align: right;\n",
       "    }\n",
       "</style>\n",
       "<table border=\"1\" class=\"dataframe\">\n",
       "  <thead>\n",
       "    <tr style=\"text-align: right;\">\n",
       "      <th></th>\n",
       "      <th>V:測試電壓值</th>\n",
       "      <th>I:漏電流值</th>\n",
       "      <th>OM:絕緣電阻值</th>\n",
       "      <th>PF:結果判定</th>\n",
       "    </tr>\n",
       "  </thead>\n",
       "  <tbody>\n",
       "    <tr>\n",
       "      <th>count</th>\n",
       "      <td>5471.000000</td>\n",
       "      <td>5471.000000</td>\n",
       "      <td>5.471000e+03</td>\n",
       "      <td>5471.000000</td>\n",
       "    </tr>\n",
       "    <tr>\n",
       "      <th>mean</th>\n",
       "      <td>243.542171</td>\n",
       "      <td>-0.024493</td>\n",
       "      <td>8.216301e+08</td>\n",
       "      <td>123.858527</td>\n",
       "    </tr>\n",
       "    <tr>\n",
       "      <th>std</th>\n",
       "      <td>34.809551</td>\n",
       "      <td>0.154587</td>\n",
       "      <td>6.129687e+08</td>\n",
       "      <td>14.970724</td>\n",
       "    </tr>\n",
       "    <tr>\n",
       "      <th>min</th>\n",
       "      <td>-1.000000</td>\n",
       "      <td>-1.000000</td>\n",
       "      <td>-1.000000e+00</td>\n",
       "      <td>66.000000</td>\n",
       "    </tr>\n",
       "    <tr>\n",
       "      <th>25%</th>\n",
       "      <td>248.943000</td>\n",
       "      <td>0.000000</td>\n",
       "      <td>2.929020e+08</td>\n",
       "      <td>128.000000</td>\n",
       "    </tr>\n",
       "    <tr>\n",
       "      <th>50%</th>\n",
       "      <td>248.943000</td>\n",
       "      <td>0.000000</td>\n",
       "      <td>4.241200e+08</td>\n",
       "      <td>128.000000</td>\n",
       "    </tr>\n",
       "    <tr>\n",
       "      <th>75%</th>\n",
       "      <td>248.943000</td>\n",
       "      <td>0.000000</td>\n",
       "      <td>1.492030e+09</td>\n",
       "      <td>128.000000</td>\n",
       "    </tr>\n",
       "    <tr>\n",
       "      <th>max</th>\n",
       "      <td>250.980000</td>\n",
       "      <td>0.000000</td>\n",
       "      <td>3.482780e+09</td>\n",
       "      <td>128.000000</td>\n",
       "    </tr>\n",
       "  </tbody>\n",
       "</table>\n",
       "</div>"
      ],
      "text/plain": [
       "           V:測試電壓值       I:漏電流值      OM:絕緣電阻值      PF:結果判定\n",
       "count  5471.000000  5471.000000  5.471000e+03  5471.000000\n",
       "mean    243.542171    -0.024493  8.216301e+08   123.858527\n",
       "std      34.809551     0.154587  6.129687e+08    14.970724\n",
       "min      -1.000000    -1.000000 -1.000000e+00    66.000000\n",
       "25%     248.943000     0.000000  2.929020e+08   128.000000\n",
       "50%     248.943000     0.000000  4.241200e+08   128.000000\n",
       "75%     248.943000     0.000000  1.492030e+09   128.000000\n",
       "max     250.980000     0.000000  3.482780e+09   128.000000"
      ]
     },
     "execution_count": 2,
     "metadata": {},
     "output_type": "execute_result"
    }
   ],
   "source": [
    "pf_label = ['測試正常', '充放電失敗', '電流過大', '讀值偏高', '接觸檢查失敗', '異常放電', '其他']\n",
    "pf_code = [128, 72, 98, 96, 68, 66, 74]\n",
    "for i in range(len(pf_label)):\n",
    "    count = df_hipot['PF:結果判定'][df_hipot['PF:結果判定'] == pf_code[i]].count()\n",
    "    print(\"%s(%d)\\t: %d\" % (pf_label[i], pf_code[i], count))\n",
    "\n",
    "df_hipot.describe()"
   ]
  },
  {
   "cell_type": "code",
   "execution_count": 3,
   "metadata": {
    "scrolled": true
   },
   "outputs": [
    {
     "data": {
      "text/plain": [
       "<matplotlib.axes._subplots.AxesSubplot at 0x1a335e9c518>"
      ]
     },
     "execution_count": 3,
     "metadata": {},
     "output_type": "execute_result"
    },
    {
     "data": {
      "image/png": "[encoded data removed]",
      "text/plain": [
       "<Figure size 432x288 with 1 Axes>"
      ]
     },
     "metadata": {
      "needs_background": "light"
     },
     "output_type": "display_data"
    }
   ],
   "source": [
    "# df_hipot['V:測試電壓值'].hist(bins=100)\n",
    "# df_hipot['I:漏電流值'].hist(bins=100)\n",
    "df_hipot['OM:絕緣電阻值'].hist(bins=100)"
   ]
  },
  {
   "cell_type": "markdown",
   "metadata": {},
   "source": [
    "# 2. Data cleaning"
   ]
  },
  {
   "cell_type": "code",
   "execution_count": 4,
   "metadata": {
    "scrolled": true
   },
   "outputs": [
    {
     "data": {
      "application/vnd.jupyter.widget-view+json": {
       "model_id": "d52859a5407a4106adc449be8945659b",
       "version_major": 2,
       "version_minor": 0
      },
      "text/plain": [
       "HBox(children=(IntProgress(value=0, max=5471), HTML(value='')))"
      ]
     },
     "metadata": {},
     "output_type": "display_data"
    },
    {
     "name": "stdout",
     "output_type": "stream",
     "text": [
      "\n"
     ]
    }
   ],
   "source": [
    "pf = df_hipot.duplicated(subset=['電池編號'], keep=False)\n",
    "df_normal = pd.DataFrame({'電池編號': [], 'V:測試電壓值': [], 'I:漏電流值': [], 'OM:絕緣電阻值': [], 'PF:結果判定': []})\n",
    "df_suspect = pd.DataFrame({'電池編號': [], 'V:測試電壓值': [], 'I:漏電流值': [], 'OM:絕緣電阻值': [], 'PF:結果判定': []})\n",
    "\n",
    "previous = ''\n",
    "current = ''\n",
    "for index in tqdm_notebook(range(len(pf))):\n",
    "    # Situation #1: Battery numbers are not duplicated and PF is 128\n",
    "    if (pf[index] == False and df_hipot['PF:結果判定'][index] == 128):\n",
    "        df_normal.loc[len(df_normal)] = df_hipot.iloc[index]\n",
    "    # Situation #2: Battery numbers are not duplicated but PF is not 128\n",
    "    elif (pf[index] == False and df_hipot['PF:結果判定'][index] != 128):\n",
    "        df_normal.loc[len(df_normal)] = df_hipot.iloc[index]\n",
    "        df_suspect.loc[len(df_suspect)] = df_hipot.iloc[index]\n",
    "    else:\n",
    "        current = df_hipot['電池編號'][index]\n",
    "        # Situation #3: Battery numbers are duplicated and PF are all 128\n",
    "        if (previous != current and df_hipot['PF:結果判定'][index] == 128):\n",
    "            df_normal.loc[len(df_normal)] = df_hipot.iloc[index]\n",
    "            current = previous\n",
    "        # Situation #4: Battery numbers are duplicated and the last PF is 128\n",
    "        elif (previous == current and df_hipot['PF:結果判定'][index] == 128):\n",
    "            df_normal.loc[len(df_normal)] = df_hipot.iloc[index]\n",
    "            df_suspect.loc[len(df_suspect)] = df_hipot.iloc[index]\n",
    "        # Situation #5: Battery numbers are duplicated and betteries are suspected\n",
    "        else:\n",
    "            df_suspect.loc[len(df_suspect)] = df_hipot.iloc[index]\n",
    "    previous = current\n",
    "\n",
    "# Clear duplicates & Rearrange index\n",
    "df_normal.drop_duplicates(subset=['電池編號', 'PF:結果判定'], keep='first', inplace=True)\n",
    "df_normal = df_normal.reset_index(drop=True)"
   ]
  },
  {
   "cell_type": "markdown",
   "metadata": {},
   "source": [
    "## Statistic analysis of data"
   ]
  },
  {
   "cell_type": "code",
   "execution_count": 5,
   "metadata": {},
   "outputs": [
    {
     "data": {
      "text/html": [
       "<div>\n",
       "<style scoped>\n",
       "    .dataframe tbody tr th:only-of-type {\n",
       "        vertical-align: middle;\n",
       "    }\n",
       "\n",
       "    .dataframe tbody tr th {\n",
       "        vertical-align: top;\n",
       "    }\n",
       "\n",
       "    .dataframe thead th {\n",
       "        text-align: right;\n",
       "    }\n",
       "</style>\n",
       "<table border=\"1\" class=\"dataframe\">\n",
       "  <thead>\n",
       "    <tr style=\"text-align: right;\">\n",
       "      <th></th>\n",
       "      <th>V:測試電壓值</th>\n",
       "      <th>I:漏電流值</th>\n",
       "      <th>OM:絕緣電阻值</th>\n",
       "      <th>PF:結果判定</th>\n",
       "    </tr>\n",
       "  </thead>\n",
       "  <tbody>\n",
       "    <tr>\n",
       "      <th>count</th>\n",
       "      <td>4859.000000</td>\n",
       "      <td>4859.000000</td>\n",
       "      <td>4.859000e+03</td>\n",
       "      <td>4859.000000</td>\n",
       "    </tr>\n",
       "    <tr>\n",
       "      <th>mean</th>\n",
       "      <td>248.077916</td>\n",
       "      <td>-0.003704</td>\n",
       "      <td>8.375451e+08</td>\n",
       "      <td>127.739453</td>\n",
       "    </tr>\n",
       "    <tr>\n",
       "      <th>std</th>\n",
       "      <td>13.564930</td>\n",
       "      <td>0.060758</td>\n",
       "      <td>6.017013e+08</td>\n",
       "      <td>3.819361</td>\n",
       "    </tr>\n",
       "    <tr>\n",
       "      <th>min</th>\n",
       "      <td>-1.000000</td>\n",
       "      <td>-1.000000</td>\n",
       "      <td>-1.000000e+00</td>\n",
       "      <td>66.000000</td>\n",
       "    </tr>\n",
       "    <tr>\n",
       "      <th>25%</th>\n",
       "      <td>248.943000</td>\n",
       "      <td>0.000000</td>\n",
       "      <td>3.023430e+08</td>\n",
       "      <td>128.000000</td>\n",
       "    </tr>\n",
       "    <tr>\n",
       "      <th>50%</th>\n",
       "      <td>248.943000</td>\n",
       "      <td>0.000000</td>\n",
       "      <td>4.362380e+08</td>\n",
       "      <td>128.000000</td>\n",
       "    </tr>\n",
       "    <tr>\n",
       "      <th>75%</th>\n",
       "      <td>248.943000</td>\n",
       "      <td>0.000000</td>\n",
       "      <td>1.492030e+09</td>\n",
       "      <td>128.000000</td>\n",
       "    </tr>\n",
       "    <tr>\n",
       "      <th>max</th>\n",
       "      <td>250.980000</td>\n",
       "      <td>0.000000</td>\n",
       "      <td>3.482780e+09</td>\n",
       "      <td>128.000000</td>\n",
       "    </tr>\n",
       "  </tbody>\n",
       "</table>\n",
       "</div>"
      ],
      "text/plain": [
       "           V:測試電壓值       I:漏電流值      OM:絕緣電阻值      PF:結果判定\n",
       "count  4859.000000  4859.000000  4.859000e+03  4859.000000\n",
       "mean    248.077916    -0.003704  8.375451e+08   127.739453\n",
       "std      13.564930     0.060758  6.017013e+08     3.819361\n",
       "min      -1.000000    -1.000000 -1.000000e+00    66.000000\n",
       "25%     248.943000     0.000000  3.023430e+08   128.000000\n",
       "50%     248.943000     0.000000  4.362380e+08   128.000000\n",
       "75%     248.943000     0.000000  1.492030e+09   128.000000\n",
       "max     250.980000     0.000000  3.482780e+09   128.000000"
      ]
     },
     "execution_count": 5,
     "metadata": {},
     "output_type": "execute_result"
    }
   ],
   "source": [
    "df_normal.describe()"
   ]
  },
  {
   "cell_type": "code",
   "execution_count": 6,
   "metadata": {},
   "outputs": [
    {
     "name": "stdout",
     "output_type": "stream",
     "text": [
      "測試正常(128)\t: 293\n",
      "充放電失敗(72)\t: 64\n",
      "電流過大(98)\t: 61\n",
      "讀值偏高(96)\t: 2\n",
      "接觸檢查失敗(68)\t: 0\n",
      "異常放電(66)\t: 271\n",
      "其他(74)\t: 7\n"
     ]
    },
    {
     "data": {
      "text/html": [
       "<div>\n",
       "<style scoped>\n",
       "    .dataframe tbody tr th:only-of-type {\n",
       "        vertical-align: middle;\n",
       "    }\n",
       "\n",
       "    .dataframe tbody tr th {\n",
       "        vertical-align: top;\n",
       "    }\n",
       "\n",
       "    .dataframe thead th {\n",
       "        text-align: right;\n",
       "    }\n",
       "</style>\n",
       "<table border=\"1\" class=\"dataframe\">\n",
       "  <thead>\n",
       "    <tr style=\"text-align: right;\">\n",
       "      <th></th>\n",
       "      <th>V:測試電壓值</th>\n",
       "      <th>I:漏電流值</th>\n",
       "      <th>OM:絕緣電阻值</th>\n",
       "      <th>PF:結果判定</th>\n",
       "    </tr>\n",
       "  </thead>\n",
       "  <tbody>\n",
       "    <tr>\n",
       "      <th>count</th>\n",
       "      <td>698.000000</td>\n",
       "      <td>698.000000</td>\n",
       "      <td>6.980000e+02</td>\n",
       "      <td>698.000000</td>\n",
       "    </tr>\n",
       "    <tr>\n",
       "      <th>mean</th>\n",
       "      <td>206.998211</td>\n",
       "      <td>-0.191977</td>\n",
       "      <td>7.503763e+08</td>\n",
       "      <td>95.538682</td>\n",
       "    </tr>\n",
       "    <tr>\n",
       "      <th>std</th>\n",
       "      <td>89.300386</td>\n",
       "      <td>0.394138</td>\n",
       "      <td>6.937549e+08</td>\n",
       "      <td>28.953023</td>\n",
       "    </tr>\n",
       "    <tr>\n",
       "      <th>min</th>\n",
       "      <td>-1.000000</td>\n",
       "      <td>-1.000000</td>\n",
       "      <td>-1.000000e+00</td>\n",
       "      <td>66.000000</td>\n",
       "    </tr>\n",
       "    <tr>\n",
       "      <th>25%</th>\n",
       "      <td>248.535000</td>\n",
       "      <td>0.000000</td>\n",
       "      <td>1.255948e+08</td>\n",
       "      <td>66.000000</td>\n",
       "    </tr>\n",
       "    <tr>\n",
       "      <th>50%</th>\n",
       "      <td>248.943000</td>\n",
       "      <td>0.000000</td>\n",
       "      <td>3.652170e+08</td>\n",
       "      <td>98.000000</td>\n",
       "    </tr>\n",
       "    <tr>\n",
       "      <th>75%</th>\n",
       "      <td>249.350000</td>\n",
       "      <td>0.000000</td>\n",
       "      <td>1.492030e+09</td>\n",
       "      <td>128.000000</td>\n",
       "    </tr>\n",
       "    <tr>\n",
       "      <th>max</th>\n",
       "      <td>250.980000</td>\n",
       "      <td>0.000000</td>\n",
       "      <td>2.913230e+09</td>\n",
       "      <td>128.000000</td>\n",
       "    </tr>\n",
       "  </tbody>\n",
       "</table>\n",
       "</div>"
      ],
      "text/plain": [
       "          V:測試電壓值      I:漏電流值      OM:絕緣電阻值     PF:結果判定\n",
       "count  698.000000  698.000000  6.980000e+02  698.000000\n",
       "mean   206.998211   -0.191977  7.503763e+08   95.538682\n",
       "std     89.300386    0.394138  6.937549e+08   28.953023\n",
       "min     -1.000000   -1.000000 -1.000000e+00   66.000000\n",
       "25%    248.535000    0.000000  1.255948e+08   66.000000\n",
       "50%    248.943000    0.000000  3.652170e+08   98.000000\n",
       "75%    249.350000    0.000000  1.492030e+09  128.000000\n",
       "max    250.980000    0.000000  2.913230e+09  128.000000"
      ]
     },
     "execution_count": 6,
     "metadata": {},
     "output_type": "execute_result"
    }
   ],
   "source": [
    "for i in range(len(pf_label)):\n",
    "    count = df_suspect['PF:結果判定'][df_suspect['PF:結果判定'] == pf_code[i]].count()\n",
    "    print(\"%s(%d)\\t: %d\" % (pf_label[i], pf_code[i], count))\n",
    "df_suspect.describe()"
   ]
  },
  {
   "cell_type": "markdown",
   "metadata": {},
   "source": [
    "# 3. Data aggregation"
   ]
  },
  {
   "cell_type": "code",
   "execution_count": 7,
   "metadata": {
    "scrolled": false
   },
   "outputs": [
    {
     "data": {
      "application/vnd.jupyter.widget-view+json": {
       "model_id": "a6d46f7ab14245bfbd8a80087f0224a4",
       "version_major": 2,
       "version_minor": 0
      },
      "text/plain": [
       "HBox(children=(IntProgress(value=0, max=4859), HTML(value='')))"
      ]
     },
     "metadata": {},
     "output_type": "display_data"
    },
    {
     "name": "stdout",
     "output_type": "stream",
     "text": [
      "There isn't any materials match for the batteries: Q319T1I2-001\n",
      "There isn't any materials match for the batteries: Q319T1I2-002\n",
      "There isn't any materials match for the batteries: Q319T1I2-003\n",
      "There isn't any materials match for the batteries: Q319T1I2-004\n",
      "There isn't any materials match for the batteries: Q319T1I2-005\n",
      "There isn't any materials match for the batteries: Q319T1I2-006\n",
      "There isn't any materials match for the batteries: Q319T1I2-008\n",
      "There isn't any materials match for the batteries: Q319T1I2-009\n",
      "There isn't any materials match for the batteries: Q319T1I2-010\n",
      "There isn't any materials match for the batteries: Q319T1I2-011\n",
      "There isn't any materials match for the batteries: Q319T1I2-012\n",
      "There isn't any materials match for the batteries: Q319T1I2-013\n",
      "There isn't any materials match for the batteries: Q319T1I2-014\n",
      "There isn't any materials match for the batteries: Q319T1I2-015\n",
      "There isn't any materials match for the batteries: Q319T1I2-016\n",
      "There isn't any materials match for the batteries: Q319T1I2-018\n",
      "There isn't any materials match for the batteries: Q319T1I2-019\n",
      "There isn't any materials match for the batteries: Q319T1I2-020\n",
      "There isn't any materials match for the batteries: Q319T1I2-021\n",
      "There isn't any materials match for the batteries: Q319T1I2-022\n",
      "There isn't any materials match for the batteries: Q319T1I2-023\n",
      "There isn't any materials match for the batteries: Q319T1I2-025\n",
      "There isn't any materials match for the batteries: Q319T1I2-026\n",
      "There isn't any materials match for the batteries: Q319T1I2-027\n",
      "There isn't any materials match for the batteries: Q319T1I2-028\n",
      "There isn't any materials match for the batteries: Q319T1I2-029\n",
      "There isn't any materials match for the batteries: Q319T1I2-030\n",
      "There isn't any materials match for the batteries: Q319T1I2-031\n",
      "There isn't any materials match for the batteries: Q319T1I2-032\n",
      "There isn't any materials match for the batteries: Q319T1I2-033\n",
      "There isn't any materials match for the batteries: Q319T1I2-034\n",
      "There isn't any materials match for the batteries: Q319T1I2-036\n",
      "There isn't any materials match for the batteries: Q319T1I2-037\n",
      "There isn't any materials match for the batteries: Q319T1I2-038\n",
      "There isn't any materials match for the batteries: Q319T1I2-039\n",
      "There isn't any materials match for the batteries: Q319T1I2-040\n",
      "There isn't any materials match for the batteries: Q319T1I2-041\n",
      "There isn't any materials match for the batteries: Q319T1I2-042\n",
      "There isn't any materials match for the batteries: Q319T1I2-043\n",
      "There isn't any materials match for the batteries: Q319T1I2-044\n",
      "There isn't any materials match for the batteries: Q319T1I2-046\n",
      "There isn't any materials match for the batteries: Q319T1I2-047\n",
      "There isn't any materials match for the batteries: Q319T1I2-049\n",
      "There isn't any materials match for the batteries: Q319T1I2-051\n",
      "There isn't any materials match for the batteries: Q319T1I2-052\n",
      "There isn't any materials match for the batteries: Q319T1I2-053\n",
      "There isn't any materials match for the batteries: Q319T1I2-054\n",
      "There isn't any materials match for the batteries: Q319T1I2-055\n",
      "There isn't any materials match for the batteries: Q319T1I2-056\n",
      "There isn't any materials match for the batteries: Q319T1I2-057\n",
      "There isn't any materials match for the batteries: Q319T1I2-058\n",
      "There isn't any materials match for the batteries: Q319T1I2-059\n",
      "There isn't any materials match for the batteries: Q319T1I2-060\n",
      "There isn't any materials match for the batteries: Q319T1I2-061\n",
      "There isn't any materials match for the batteries: Q319T1I2-062\n",
      "There isn't any materials match for the batteries: Q319T1I2-063\n",
      "There isn't any materials match for the batteries: Q319T1I2-064\n",
      "There isn't any materials match for the batteries: Q319T1I2-065\n",
      "There isn't any materials match for the batteries: Q319T1I2-066\n",
      "There isn't any materials match for the batteries: Q319T1I2-067\n",
      "There isn't any materials match for the batteries: Q319T1I2-068\n",
      "There isn't any materials match for the batteries: Q319T1I2-069\n",
      "There isn't any materials match for the batteries: Q319T1I2-070\n",
      "There isn't any materials match for the batteries: Q319T1I2-071\n",
      "There isn't any materials match for the batteries: Q319T1I2-072\n",
      "There isn't any materials match for the batteries: Q319T1I2-073\n",
      "There isn't any materials match for the batteries: Q319T1I2-074\n",
      "There isn't any materials match for the batteries: Q319T1I2-075\n",
      "There isn't any materials match for the batteries: Q319T1I2-076\n",
      "There isn't any materials match for the batteries: Q319T1I2-077\n",
      "There isn't any materials match for the batteries: Q319T1I2-078\n",
      "There isn't any materials match for the batteries: Q319T1I2-079\n",
      "There isn't any materials match for the batteries: Q319T1I2-080\n",
      "\n"
     ]
    },
    {
     "data": {
      "application/vnd.jupyter.widget-view+json": {
       "model_id": "f1390126d92a44dfb58a93de8ffdd0cf",
       "version_major": 2,
       "version_minor": 0
      },
      "text/plain": [
       "HBox(children=(IntProgress(value=0, max=698), HTML(value='')))"
      ]
     },
     "metadata": {},
     "output_type": "display_data"
    },
    {
     "name": "stdout",
     "output_type": "stream",
     "text": [
      "There isn't any materials match for the batteries: Q319T1I2-024\n",
      "There isn't any materials match for the batteries: Q319T1I2-024\n",
      "\n"
     ]
    }
   ],
   "source": [
    "df_material = pd.read_csv('data/Li_material.csv', encoding='gb18030')\n",
    "label_material = np.array(['批號', '正極隔離膜批號', '負極隔離膜批號', '正極來料', '負極來料'])\n",
    "df_material.columns = label_material\n",
    "\n",
    "# Add empty columns for dataframe\n",
    "for i in label_material[1:]:\n",
    "    df_normal[i] = 'NaN'\n",
    "    df_suspect[i] = 'NaN'\n",
    "\n",
    "# Fill in the corresponding data for each row\n",
    "def dataAggregation(df):\n",
    "    for i in tqdm_notebook(range(len(df))):\n",
    "        battery_serial = df['電池編號'][i][0:8]\n",
    "\n",
    "        index = df_material[df_material['批號'] == battery_serial].index\n",
    "        for column in label_material[1:]:\n",
    "            try:\n",
    "                df.loc[i, column] = df_material.loc[index, column].values[0]\n",
    "            except:\n",
    "                print(\"There isn't any materials match for the batteries: %s\" % (df.loc[i, '電池編號']))\n",
    "                break\n",
    "\n",
    "dataAggregation(df_normal)\n",
    "dataAggregation(df_suspect)"
   ]
  },
  {
   "cell_type": "code",
   "execution_count": 8,
   "metadata": {},
   "outputs": [
    {
     "data": {
      "text/html": [
       "<div>\n",
       "<style scoped>\n",
       "    .dataframe tbody tr th:only-of-type {\n",
       "        vertical-align: middle;\n",
       "    }\n",
       "\n",
       "    .dataframe tbody tr th {\n",
       "        vertical-align: top;\n",
       "    }\n",
       "\n",
       "    .dataframe thead th {\n",
       "        text-align: right;\n",
       "    }\n",
       "</style>\n",
       "<table border=\"1\" class=\"dataframe\">\n",
       "  <thead>\n",
       "    <tr style=\"text-align: right;\">\n",
       "      <th></th>\n",
       "      <th>電池編號</th>\n",
       "      <th>V:測試電壓值</th>\n",
       "      <th>I:漏電流值</th>\n",
       "      <th>OM:絕緣電阻值</th>\n",
       "      <th>PF:結果判定</th>\n",
       "      <th>正極隔離膜批號</th>\n",
       "      <th>負極隔離膜批號</th>\n",
       "      <th>正極來料</th>\n",
       "      <th>負極來料</th>\n",
       "    </tr>\n",
       "  </thead>\n",
       "  <tbody>\n",
       "    <tr>\n",
       "      <th>0</th>\n",
       "      <td>Q123T2E1-004</td>\n",
       "      <td>248.535</td>\n",
       "      <td>0.0</td>\n",
       "      <td>2.138680e+08</td>\n",
       "      <td>66.0</td>\n",
       "      <td>TAF28AD0704</td>\n",
       "      <td>TAF28AD0702</td>\n",
       "      <td>102962</td>\n",
       "      <td>FH22K01</td>\n",
       "    </tr>\n",
       "    <tr>\n",
       "      <th>1</th>\n",
       "      <td>Q123T2E1-004</td>\n",
       "      <td>249.758</td>\n",
       "      <td>0.0</td>\n",
       "      <td>4.140080e+08</td>\n",
       "      <td>128.0</td>\n",
       "      <td>TAF28AD0704</td>\n",
       "      <td>TAF28AD0702</td>\n",
       "      <td>102962</td>\n",
       "      <td>FH22K01</td>\n",
       "    </tr>\n",
       "    <tr>\n",
       "      <th>2</th>\n",
       "      <td>Q123T2E1-009</td>\n",
       "      <td>248.943</td>\n",
       "      <td>0.0</td>\n",
       "      <td>3.164420e+08</td>\n",
       "      <td>66.0</td>\n",
       "      <td>TAF28AD0704</td>\n",
       "      <td>TAF28AD0702</td>\n",
       "      <td>102962</td>\n",
       "      <td>FH22K01</td>\n",
       "    </tr>\n",
       "    <tr>\n",
       "      <th>3</th>\n",
       "      <td>Q123T2E1-009</td>\n",
       "      <td>247.313</td>\n",
       "      <td>0.0</td>\n",
       "      <td>5.624840e+08</td>\n",
       "      <td>66.0</td>\n",
       "      <td>TAF28AD0704</td>\n",
       "      <td>TAF28AD0702</td>\n",
       "      <td>102962</td>\n",
       "      <td>FH22K01</td>\n",
       "    </tr>\n",
       "    <tr>\n",
       "      <th>4</th>\n",
       "      <td>Q123T2E1-009</td>\n",
       "      <td>248.943</td>\n",
       "      <td>0.0</td>\n",
       "      <td>1.489600e+09</td>\n",
       "      <td>128.0</td>\n",
       "      <td>TAF28AD0704</td>\n",
       "      <td>TAF28AD0702</td>\n",
       "      <td>102962</td>\n",
       "      <td>FH22K01</td>\n",
       "    </tr>\n",
       "    <tr>\n",
       "      <th>5</th>\n",
       "      <td>Q123T2E1-011</td>\n",
       "      <td>249.350</td>\n",
       "      <td>0.0</td>\n",
       "      <td>8.268080e+07</td>\n",
       "      <td>66.0</td>\n",
       "      <td>TAF28AD0704</td>\n",
       "      <td>TAF28AD0702</td>\n",
       "      <td>102962</td>\n",
       "      <td>FH22K01</td>\n",
       "    </tr>\n",
       "    <tr>\n",
       "      <th>6</th>\n",
       "      <td>Q123T2E1-011</td>\n",
       "      <td>248.943</td>\n",
       "      <td>0.0</td>\n",
       "      <td>2.827470e+08</td>\n",
       "      <td>128.0</td>\n",
       "      <td>TAF28AD0704</td>\n",
       "      <td>TAF28AD0702</td>\n",
       "      <td>102962</td>\n",
       "      <td>FH22K01</td>\n",
       "    </tr>\n",
       "    <tr>\n",
       "      <th>7</th>\n",
       "      <td>Q123T2E1-017</td>\n",
       "      <td>246.091</td>\n",
       "      <td>0.0</td>\n",
       "      <td>5.678220e+07</td>\n",
       "      <td>66.0</td>\n",
       "      <td>TAF28AD0704</td>\n",
       "      <td>TAF28AD0702</td>\n",
       "      <td>102962</td>\n",
       "      <td>FH22K01</td>\n",
       "    </tr>\n",
       "    <tr>\n",
       "      <th>8</th>\n",
       "      <td>Q123T2E1-017</td>\n",
       "      <td>249.350</td>\n",
       "      <td>0.0</td>\n",
       "      <td>1.529330e+09</td>\n",
       "      <td>128.0</td>\n",
       "      <td>TAF28AD0704</td>\n",
       "      <td>TAF28AD0702</td>\n",
       "      <td>102962</td>\n",
       "      <td>FH22K01</td>\n",
       "    </tr>\n",
       "    <tr>\n",
       "      <th>9</th>\n",
       "      <td>Q123T2E1-022</td>\n",
       "      <td>247.721</td>\n",
       "      <td>0.0</td>\n",
       "      <td>2.882860e+07</td>\n",
       "      <td>66.0</td>\n",
       "      <td>TAF28AD0704</td>\n",
       "      <td>TAF28AD0702</td>\n",
       "      <td>102962</td>\n",
       "      <td>FH22K01</td>\n",
       "    </tr>\n",
       "  </tbody>\n",
       "</table>\n",
       "</div>"
      ],
      "text/plain": [
       "           電池編號  V:測試電壓值  I:漏電流值      OM:絕緣電阻值  PF:結果判定      正極隔離膜批號  \\\n",
       "0  Q123T2E1-004  248.535     0.0  2.138680e+08     66.0  TAF28AD0704   \n",
       "1  Q123T2E1-004  249.758     0.0  4.140080e+08    128.0  TAF28AD0704   \n",
       "2  Q123T2E1-009  248.943     0.0  3.164420e+08     66.0  TAF28AD0704   \n",
       "3  Q123T2E1-009  247.313     0.0  5.624840e+08     66.0  TAF28AD0704   \n",
       "4  Q123T2E1-009  248.943     0.0  1.489600e+09    128.0  TAF28AD0704   \n",
       "5  Q123T2E1-011  249.350     0.0  8.268080e+07     66.0  TAF28AD0704   \n",
       "6  Q123T2E1-011  248.943     0.0  2.827470e+08    128.0  TAF28AD0704   \n",
       "7  Q123T2E1-017  246.091     0.0  5.678220e+07     66.0  TAF28AD0704   \n",
       "8  Q123T2E1-017  249.350     0.0  1.529330e+09    128.0  TAF28AD0704   \n",
       "9  Q123T2E1-022  247.721     0.0  2.882860e+07     66.0  TAF28AD0704   \n",
       "\n",
       "       負極隔離膜批號    正極來料     負極來料  \n",
       "0  TAF28AD0702  102962  FH22K01  \n",
       "1  TAF28AD0702  102962  FH22K01  \n",
       "2  TAF28AD0702  102962  FH22K01  \n",
       "3  TAF28AD0702  102962  FH22K01  \n",
       "4  TAF28AD0702  102962  FH22K01  \n",
       "5  TAF28AD0702  102962  FH22K01  \n",
       "6  TAF28AD0702  102962  FH22K01  \n",
       "7  TAF28AD0702  102962  FH22K01  \n",
       "8  TAF28AD0702  102962  FH22K01  \n",
       "9  TAF28AD0702  102962  FH22K01  "
      ]
     },
     "execution_count": 8,
     "metadata": {},
     "output_type": "execute_result"
    }
   ],
   "source": [
    "df_suspect.head(10)"
   ]
  },
  {
   "cell_type": "markdown",
   "metadata": {},
   "source": [
    "# 4. Data mining"
   ]
  },
  {
   "cell_type": "markdown",
   "metadata": {},
   "source": [
    "## K-Means Clustering"
   ]
  },
  {
   "cell_type": "code",
   "execution_count": 9,
   "metadata": {},
   "outputs": [
    {
     "data": {
      "text/plain": [
       "<matplotlib.axes._subplots.AxesSubplot at 0x1a336235710>"
      ]
     },
     "execution_count": 9,
     "metadata": {},
     "output_type": "execute_result"
    },
    {
     "data": {
      "image/png": "[encoded data removed]",
      "text/plain": [
       "<Figure size 432x288 with 1 Axes>"
      ]
     },
     "metadata": {
      "needs_background": "light"
     },
     "output_type": "display_data"
    }
   ],
   "source": [
    "df_suspect['OM:絕緣電阻值'].hist(bins=100)"
   ]
  },
  {
   "cell_type": "code",
   "execution_count": 10,
   "metadata": {
    "scrolled": false
   },
   "outputs": [
    {
     "data": {
      "image/png": "[encoded data removed]",
      "text/plain": [
       "<Figure size 432x288 with 1 Axes>"
      ]
     },
     "metadata": {
      "needs_background": "light"
     },
     "output_type": "display_data"
    },
    {
     "data": {
      "image/png": "[encoded data removed]",
      "text/plain": [
       "<Figure size 720x432 with 1 Axes>"
      ]
     },
     "metadata": {
      "needs_background": "light"
     },
     "output_type": "display_data"
    }
   ],
   "source": [
    "from sklearn import cluster, datasets, metrics\n",
    "from sklearn.cluster import KMeans\n",
    "\n",
    "def plot_performance(classification):\n",
    "    X = df_suspect[classification].values\n",
    "    silhouette_avgs = []\n",
    "    for k in range(2, 11):\n",
    "        kmeans_fit = cluster.KMeans(n_clusters = k).fit(X)\n",
    "        cluster_labels = kmeans_fit.labels_\n",
    "        silhouette_avg = metrics.silhouette_score(X, cluster_labels)\n",
    "        silhouette_avgs.append(silhouette_avg)\n",
    "    plt.bar(range(2, 11), silhouette_avgs)\n",
    "    plt.title('Different values of K')\n",
    "    plt.xlabel('K')\n",
    "    plt.ylabel('Performance')\n",
    "    plt.show()\n",
    "\n",
    "def plot_KMeans(classification, k):\n",
    "    X = df_suspect[classification].values\n",
    "    km = KMeans(n_clusters=k)\n",
    "    y_pred = km.fit_predict(X)\n",
    "    plt.figure(figsize=(10, 6))\n",
    "    plt.title('K = %d' % (k))\n",
    "    plt.xlabel('V')\n",
    "    plt.ylabel('OM')\n",
    "    plt.scatter(X[:, 0], X[:, 1], c=y_pred)\n",
    "    plt.show()\n",
    "    \n",
    "classification = ['V:測試電壓值', 'OM:絕緣電阻值']\n",
    "k = 2\n",
    "plot_performance(classification)\n",
    "plot_KMeans(classification, k)"
   ]
  },
  {
   "cell_type": "markdown",
   "metadata": {},
   "source": [
    "## Separate suspect dataset"
   ]
  },
  {
   "cell_type": "code",
   "execution_count": 11,
   "metadata": {},
   "outputs": [
    {
     "data": {
      "application/vnd.jupyter.widget-view+json": {
       "model_id": "a14875d3db6d47c684531396bc1216c1",
       "version_major": 2,
       "version_minor": 0
      },
      "text/plain": [
       "HBox(children=(IntProgress(value=0, max=698), HTML(value='')))"
      ]
     },
     "metadata": {},
     "output_type": "display_data"
    },
    {
     "name": "stdout",
     "output_type": "stream",
     "text": [
      "\n"
     ]
    }
   ],
   "source": [
    "df_suspect_0 = pd.DataFrame({'電池編號': [], 'V:測試電壓值': [], 'I:漏電流值': [], 'OM:絕緣電阻值': [], 'PF:結果判定': [], '正極隔離膜批號': [], '負極隔離膜批號': [], '正極來料': [], '負極來料': []})\n",
    "df_suspect_1 = pd.DataFrame({'電池編號': [], 'V:測試電壓值': [], 'I:漏電流值': [], 'OM:絕緣電阻值': [], 'PF:結果判定': [], '正極隔離膜批號': [], '負極隔離膜批號': [], '正極來料': [], '負極來料': []})\n",
    "\n",
    "X = df_suspect[classification].values\n",
    "km = KMeans(n_clusters=k)\n",
    "y_pred = km.fit_predict(X)\n",
    "for i in tqdm_notebook(range(len(y_pred))):\n",
    "    if (y_pred[i] == 0):\n",
    "        df_suspect_0.loc[len(df_suspect_0)] = df_suspect.iloc[i]\n",
    "    else:\n",
    "        df_suspect_1.loc[len(df_suspect_1)] = df_suspect.iloc[i]"
   ]
  },
  {
   "cell_type": "markdown",
   "metadata": {},
   "source": [
    "## Analyze the relationship of materials"
   ]
  },
  {
   "cell_type": "code",
   "execution_count": 12,
   "metadata": {},
   "outputs": [
    {
     "name": "stderr",
     "output_type": "stream",
     "text": [
      "C:\\Users\\hyCheng\\Anaconda3\\lib\\site-packages\\ipykernel_launcher.py:3: UserWarning: Boolean Series key will be reindexed to match DataFrame index.\n",
      "  This is separate from the ipykernel package so we can avoid doing imports until\n",
      "C:\\Users\\hyCheng\\Anaconda3\\lib\\site-packages\\ipykernel_launcher.py:11: UserWarning: Boolean Series key will be reindexed to match DataFrame index.\n",
      "  # This is added back by InteractiveShellApp.init_path()\n"
     ]
    },
    {
     "data": {
      "image/png": "[encoded data removed]",
      "text/plain": [
       "<Figure size 432x288 with 1 Axes>"
      ]
     },
     "metadata": {
      "needs_background": "light"
     },
     "output_type": "display_data"
    },
    {
     "data": {
      "image/png": "[encoded data removed]",
      "text/plain": [
       "<Figure size 432x288 with 1 Axes>"
      ]
     },
     "metadata": {
      "needs_background": "light"
     },
     "output_type": "display_data"
    }
   ],
   "source": [
    "def positive_separator_error(target):\n",
    "    total = df_suspect_0[df_suspect_0['正極隔離膜批號'] == target].count()\n",
    "    num = df_suspect_0[df_suspect_0['PF:結果判定'] != 128][df_suspect_0['正極隔離膜批號'] == target].count()\n",
    "    error = num[0] / total[0] * 100\n",
    "    if target not in postive_meterial:\n",
    "        postive_meterial.append(target)\n",
    "        postive_error_rate.append(error)\n",
    "\n",
    "def negative_separator_error(target):\n",
    "    total = df_suspect_0[df_suspect_0['負極隔離膜批號'] == target].count()\n",
    "    num = df_suspect_0[df_suspect_0['PF:結果判定'] != 128][df_suspect_0['負極隔離膜批號'] == target].count()\n",
    "    error = num[0] / total[0] * 100\n",
    "    if target not in negative_meterial:\n",
    "        negative_meterial.append(target)\n",
    "        negative_error_rate.append(error)\n",
    "\n",
    "def plot_relationship(x, y, title):\n",
    "    plt.bar(x, y)\n",
    "    plt.title(title)\n",
    "    plt.xticks(rotation=90)\n",
    "    plt.show()\n",
    "        \n",
    "postive_meterial = []\n",
    "postive_error_rate = []\n",
    "negative_meterial = []\n",
    "negative_error_rate = []\n",
    "previous = \"\"\n",
    "current = \"\"\n",
    "for positive in df_suspect_0['正極隔離膜批號']:\n",
    "    current = positive\n",
    "    if (previous != current):\n",
    "        positive_separator_error(current)\n",
    "        previous = current\n",
    "for negative in df_suspect_0['負極隔離膜批號']:\n",
    "    current = negative\n",
    "    if (previous != current):\n",
    "        negative_separator_error(current)\n",
    "        previous = current\n",
    "\n",
    "plot_relationship(postive_meterial, postive_error_rate, 'First group (positive)')\n",
    "plot_relationship(negative_meterial, negative_error_rate, 'First group (negative)')"
   ]
  },
  {
   "cell_type": "code",
   "execution_count": 13,
   "metadata": {},
   "outputs": [
    {
     "name": "stderr",
     "output_type": "stream",
     "text": [
      "C:\\Users\\hyCheng\\Anaconda3\\lib\\site-packages\\ipykernel_launcher.py:3: UserWarning: Boolean Series key will be reindexed to match DataFrame index.\n",
      "  This is separate from the ipykernel package so we can avoid doing imports until\n",
      "C:\\Users\\hyCheng\\Anaconda3\\lib\\site-packages\\ipykernel_launcher.py:11: UserWarning: Boolean Series key will be reindexed to match DataFrame index.\n",
      "  # This is added back by InteractiveShellApp.init_path()\n"
     ]
    },
    {
     "data": {
      "image/png": "[encoded data removed]",
      "text/plain": [
       "<Figure size 432x288 with 1 Axes>"
      ]
     },
     "metadata": {
      "needs_background": "light"
     },
     "output_type": "display_data"
    },
    {
     "data": {
      "image/png": "[encoded data removed]",
      "text/plain": [
       "<Figure size 432x288 with 1 Axes>"
      ]
     },
     "metadata": {
      "needs_background": "light"
     },
     "output_type": "display_data"
    }
   ],
   "source": [
    "def positive_separator_error(target):\n",
    "    total = df_suspect_1[df_suspect_1['正極隔離膜批號'] == target].count()\n",
    "    num = df_suspect_1[df_suspect_1['PF:結果判定'] != 128][df_suspect_1['正極隔離膜批號'] == target].count()\n",
    "    error = num[0] / total[0] * 100\n",
    "    if target not in postive_meterial:\n",
    "        postive_meterial.append(target)\n",
    "        postive_error_rate.append(error)\n",
    "\n",
    "def negative_separator_error(target):\n",
    "    total = df_suspect_1[df_suspect_1['負極隔離膜批號'] == target].count()\n",
    "    num = df_suspect_1[df_suspect_1['PF:結果判定'] != 128][df_suspect_1['負極隔離膜批號'] == target].count()\n",
    "    error = num[0] / total[0] * 100\n",
    "    if target not in negative_meterial:\n",
    "        negative_meterial.append(target)\n",
    "        negative_error_rate.append(error)\n",
    "\n",
    "def plot_relationship(x, y, title):\n",
    "    plt.bar(x, y)\n",
    "    plt.title(title)\n",
    "    plt.xticks(rotation=90)\n",
    "    plt.show()\n",
    "        \n",
    "postive_meterial = []\n",
    "postive_error_rate = []\n",
    "negative_meterial = []\n",
    "negative_error_rate = []\n",
    "previous = \"\"\n",
    "current = \"\"\n",
    "for positive in df_suspect_1['正極隔離膜批號']:\n",
    "    current = positive\n",
    "    if (previous != current):\n",
    "        positive_separator_error(current)\n",
    "        previous = current\n",
    "for negative in df_suspect_1['負極隔離膜批號']:\n",
    "    current = negative\n",
    "    if (previous != current):\n",
    "        negative_separator_error(current)\n",
    "        previous = current\n",
    "\n",
    "plot_relationship(postive_meterial, postive_error_rate, 'Second group (positive)')\n",
    "plot_relationship(negative_meterial, negative_error_rate, 'Second group (negative)')"
   ]
  },
  {
   "cell_type": "markdown",
   "metadata": {},
   "source": [
    "# 5. Save files"
   ]
  },
  {
   "cell_type": "code",
   "execution_count": 14,
   "metadata": {},
   "outputs": [],
   "source": [
    "df_normal.to_csv('data/Result.csv')"
   ]
  }
 ],
 "metadata": {
  "kernelspec": {
   "display_name": "Python 3",
   "language": "python",
   "name": "python3"
  },
  "language_info": {
   "codemirror_mode": {
    "name": "ipython",
    "version": 3
   },
   "file_extension": ".py",
   "mimetype": "text/x-python",
   "name": "python",
   "nbconvert_exporter": "python",
   "pygments_lexer": "ipython3",
   "version": "3.7.3"
  }
 },
 "nbformat": 4,
 "nbformat_minor": 2
}
