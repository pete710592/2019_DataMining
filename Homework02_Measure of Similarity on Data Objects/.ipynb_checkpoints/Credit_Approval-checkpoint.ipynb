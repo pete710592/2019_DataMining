{
 "cells": [
  {
   "cell_type": "markdown",
   "metadata": {},
   "source": [
    "# Read dataset"
   ]
  },
  {
   "cell_type": "code",
   "execution_count": 37,
   "metadata": {},
   "outputs": [],
   "source": [
    "import os\n",
    "import numpy as np\n",
    "import pandas as pd\n",
    "from sklearn.model_selection import train_test_split\n",
    "from sklearn.metrics import classification_report, confusion_matrix\n",
    "import matplotlib.pyplot as plt\n",
    "\n",
    "# Read dataset from directory\n",
    "dir_data = './data/'\n",
    "raw_data = os.path.join(dir_data, 'crx.data')\n",
    "data = np.genfromtxt(raw_data, delimiter=\",\", dtype=str)\n",
    "label = ['A1', 'A2', 'A3', 'A4', 'A5', 'A6', 'A7', 'A8', 'A9', 'A10', 'A11', 'A12', 'A13', 'A14', 'A15', 'A16']"
   ]
  },
  {
   "cell_type": "markdown",
   "metadata": {},
   "source": [
    "# Put txt files into DataFrame"
   ]
  },
  {
   "cell_type": "code",
   "execution_count": 38,
   "metadata": {},
   "outputs": [
    {
     "data": {
      "text/html": [
       "<div>\n",
       "<style scoped>\n",
       "    .dataframe tbody tr th:only-of-type {\n",
       "        vertical-align: middle;\n",
       "    }\n",
       "\n",
       "    .dataframe tbody tr th {\n",
       "        vertical-align: top;\n",
       "    }\n",
       "\n",
       "    .dataframe thead th {\n",
       "        text-align: right;\n",
       "    }\n",
       "</style>\n",
       "<table border=\"1\" class=\"dataframe\">\n",
       "  <thead>\n",
       "    <tr style=\"text-align: right;\">\n",
       "      <th></th>\n",
       "      <th>sepal length in cm</th>\n",
       "      <th>sepal width in cm</th>\n",
       "      <th>petal length in cm</th>\n",
       "      <th>petal width in cm</th>\n",
       "      <th>class</th>\n",
       "    </tr>\n",
       "  </thead>\n",
       "  <tbody>\n",
       "    <tr>\n",
       "      <th>0</th>\n",
       "      <td>5.1</td>\n",
       "      <td>3.5</td>\n",
       "      <td>1.4</td>\n",
       "      <td>0.2</td>\n",
       "      <td>Iris-setosa</td>\n",
       "    </tr>\n",
       "    <tr>\n",
       "      <th>1</th>\n",
       "      <td>4.9</td>\n",
       "      <td>3.0</td>\n",
       "      <td>1.4</td>\n",
       "      <td>0.2</td>\n",
       "      <td>Iris-setosa</td>\n",
       "    </tr>\n",
       "    <tr>\n",
       "      <th>2</th>\n",
       "      <td>4.7</td>\n",
       "      <td>3.2</td>\n",
       "      <td>1.3</td>\n",
       "      <td>0.2</td>\n",
       "      <td>Iris-setosa</td>\n",
       "    </tr>\n",
       "    <tr>\n",
       "      <th>3</th>\n",
       "      <td>4.6</td>\n",
       "      <td>3.1</td>\n",
       "      <td>1.5</td>\n",
       "      <td>0.2</td>\n",
       "      <td>Iris-setosa</td>\n",
       "    </tr>\n",
       "    <tr>\n",
       "      <th>4</th>\n",
       "      <td>5.0</td>\n",
       "      <td>3.6</td>\n",
       "      <td>1.4</td>\n",
       "      <td>0.2</td>\n",
       "      <td>Iris-setosa</td>\n",
       "    </tr>\n",
       "  </tbody>\n",
       "</table>\n",
       "</div>"
      ],
      "text/plain": [
       "   sepal length in cm  sepal width in cm  petal length in cm  \\\n",
       "0                 5.1                3.5                 1.4   \n",
       "1                 4.9                3.0                 1.4   \n",
       "2                 4.7                3.2                 1.3   \n",
       "3                 4.6                3.1                 1.5   \n",
       "4                 5.0                3.6                 1.4   \n",
       "\n",
       "   petal width in cm        class  \n",
       "0                0.2  Iris-setosa  \n",
       "1                0.2  Iris-setosa  \n",
       "2                0.2  Iris-setosa  \n",
       "3                0.2  Iris-setosa  \n",
       "4                0.2  Iris-setosa  "
      ]
     },
     "execution_count": 38,
     "metadata": {},
     "output_type": "execute_result"
    }
   ],
   "source": [
    "arrange_data = []\n",
    "for line in data:\n",
    "    arrange_data.append(line)\n",
    "    \n",
    "df = pd.DataFrame(arrange_data)\n",
    "df.columns = label\n",
    "\n",
    "# processing with missimg value\n",
    "df.replace('?', inplace=True)  # replace missing value with previous value\n",
    "\n",
    "df=df.astype({'A2':'float32',\n",
    "              'A3':'float32',\n",
    "              'A8':'float32'})\n",
    "df.head()"
   ]
  },
  {
   "cell_type": "markdown",
   "metadata": {},
   "source": [
    "# Split training data & testing data"
   ]
  },
  {
   "cell_type": "code",
   "execution_count": 39,
   "metadata": {},
   "outputs": [],
   "source": [
    "crx_data = df[['A1', 'A2', 'A3', 'A8', 'A15']]\n",
    "crx_label = df['A16']\n",
    "train_data , test_data , train_label , test_label = train_test_split(crx_data, crx_label, test_size=0.33, stratify=crx_label)\n",
    "\n",
    "# Convert dataframe into list\n",
    "train_data = train_data.values.tolist()\n",
    "train_label = train_label.values.tolist()\n",
    "test_data = test_data.values.tolist()\n",
    "test_label = test_label.values.tolist()"
   ]
  },
  {
   "cell_type": "markdown",
   "metadata": {},
   "source": [
    "# KNN Algorithm(K = 5)\n",
    "## Euclidean distance"
   ]
  },
  {
   "cell_type": "code",
   "execution_count": 40,
   "metadata": {},
   "outputs": [
    {
     "name": "stdout",
     "output_type": "stream",
     "text": [
      "Accuracy: 98.00 %\n",
      "\n",
      "Confusion Matrix:\n",
      "[[17  0  0]\n",
      " [ 0 16  1]\n",
      " [ 0  0 16]]\n",
      "\n",
      "Classification Report:\n",
      "                 precision    recall  f1-score   support\n",
      "\n",
      "    Iris-setosa       1.00      1.00      1.00        17\n",
      "Iris-versicolor       1.00      0.94      0.97        17\n",
      " Iris-virginica       0.94      1.00      0.97        16\n",
      "\n",
      "      micro avg       0.98      0.98      0.98        50\n",
      "      macro avg       0.98      0.98      0.98        50\n",
      "   weighted avg       0.98      0.98      0.98        50\n",
      "\n"
     ]
    }
   ],
   "source": [
    "# Calculate the Euclidean distance between two vectors\n",
    "def euclidean_distance(row1, row2):\n",
    "    distance = 0.0\n",
    "    for i in range(len(row1)-1):\n",
    "        distance += (row1[i] - row2[i])**2\n",
    "    return distance**0.5\n",
    "\n",
    "# Locate the most similar neighbors\n",
    "def get_neighbors(train_data, train_label, test_row, num_neighbors):\n",
    "    distances = []\n",
    "    for index in range(len(train_data)):\n",
    "        dist = euclidean_distance(test_row, train_data[index])\n",
    "        distances.append((train_data[index], dist, train_label[index]))\n",
    "    distances.sort(key=lambda tup: tup[1])\n",
    "    neighbors = []\n",
    "    for i in range(num_neighbors):\n",
    "        neighbors.append([distances[i][0], distances[i][-1]])\n",
    "    return neighbors\n",
    "\n",
    "# Make a prediction with neighbors\n",
    "def predict_classification(train_data, train_label, test_row, num_neighbors):\n",
    "    neighbors = get_neighbors(train_data, train_label, test_row, num_neighbors)\n",
    "    output_values = [row[-1] for row in neighbors]\n",
    "    prediction = max(set(output_values), key=output_values.count)\n",
    "    return prediction\n",
    "\n",
    "# kNN Algorithm\n",
    "def k_nearest_neighbors(train_data, train_label, test_data, num_neighbors):\n",
    "    predictions = []\n",
    "    for row in test_data:\n",
    "        output = predict_classification(train_data, train_label, row, num_neighbors)\n",
    "        predictions.append(output)\n",
    "    return predictions\n",
    "\n",
    "# Calculate accuracy percentage\n",
    "def accuracy_metric(actual, predicted):\n",
    "    correct = 0\n",
    "    for i in range(len(actual)):\n",
    "        if actual[i] == predicted[i]:\n",
    "            correct += 1\n",
    "    return correct / float(len(actual)) * 100.0\n",
    "\n",
    "# define model parameter\n",
    "num_neighbors = 5\n",
    "\n",
    "pred = k_nearest_neighbors(train_data, train_label, test_data, num_neighbors)\n",
    "print(\"Accuracy: %.2f %%\" % accuracy_metric(test_label, pred))\n",
    "print(\"\\nConfusion Matrix:\")\n",
    "print(confusion_matrix(test_label, pred))\n",
    "print(\"\\nClassification Report:\")\n",
    "print(classification_report(test_label, pred))"
   ]
  },
  {
   "cell_type": "markdown",
   "metadata": {},
   "source": [
    "### Compare the accuracy with different values of K (Euclidean distance)"
   ]
  },
  {
   "cell_type": "code",
   "execution_count": 41,
   "metadata": {},
   "outputs": [
    {
     "data": {
      "image/png": "[encoded data removed]",
      "text/plain": [
       "<Figure size 432x288 with 1 Axes>"
      ]
     },
     "metadata": {
      "needs_background": "light"
     },
     "output_type": "display_data"
    }
   ],
   "source": [
    "K_accuracy_euclidean = []\n",
    "for values in range(1, 41, 2):\n",
    "    pred = k_nearest_neighbors(train_data, train_label, test_data, values)\n",
    "    K_accuracy_euclidean.append(accuracy_metric(test_label, pred))\n",
    "plt.plot(range(1, 41, 2), K_accuracy_euclidean, label=\"Euclidean\", marker='o')\n",
    "plt.legend()\n",
    "plt.show()"
   ]
  },
  {
   "cell_type": "markdown",
   "metadata": {},
   "source": [
    "## Chebyshev distance"
   ]
  },
  {
   "cell_type": "code",
   "execution_count": 42,
   "metadata": {
    "scrolled": true
   },
   "outputs": [
    {
     "name": "stdout",
     "output_type": "stream",
     "text": [
      "Accuracy: 100.00 %\n",
      "\n",
      "Confusion Matrix:\n",
      "[[17  0  0]\n",
      " [ 0 17  0]\n",
      " [ 0  0 16]]\n",
      "\n",
      "Classification Report:\n",
      "                 precision    recall  f1-score   support\n",
      "\n",
      "    Iris-setosa       1.00      1.00      1.00        17\n",
      "Iris-versicolor       1.00      1.00      1.00        17\n",
      " Iris-virginica       1.00      1.00      1.00        16\n",
      "\n",
      "      micro avg       1.00      1.00      1.00        50\n",
      "      macro avg       1.00      1.00      1.00        50\n",
      "   weighted avg       1.00      1.00      1.00        50\n",
      "\n"
     ]
    }
   ],
   "source": [
    "# Calculate the Chebyshev distance between two vectors\n",
    "def chebyshev_distance(row1, row2):\n",
    "    distance = 0.0\n",
    "    for i in range(len(row1)-1):\n",
    "        distance += np.max(np.abs(row1[i] - row2[i]))\n",
    "    return distance\n",
    "\n",
    "# Locate the most similar neighbors\n",
    "def get_neighbors(train_data, train_label, test_row, num_neighbors):\n",
    "    distances = []\n",
    "    for index in range(len(train_data)):\n",
    "        dist = chebyshev_distance(test_row, train_data[index])\n",
    "        distances.append((train_data[index], dist, train_label[index]))\n",
    "    distances.sort(key=lambda tup: tup[1])\n",
    "    neighbors = []\n",
    "    for i in range(num_neighbors):\n",
    "        neighbors.append([distances[i][0], distances[i][-1]])\n",
    "    return neighbors\n",
    "\n",
    "# Make a prediction with neighbors\n",
    "def predict_classification(train_data, train_label, test_row, num_neighbors):\n",
    "    neighbors = get_neighbors(train_data, train_label, test_row, num_neighbors)\n",
    "    output_values = [row[-1] for row in neighbors]\n",
    "    prediction = max(set(output_values), key=output_values.count)\n",
    "    return prediction\n",
    "\n",
    "# kNN Algorithm\n",
    "def k_nearest_neighbors(train_data, train_label, test_data, num_neighbors):\n",
    "    predictions = []\n",
    "    for row in test_data:\n",
    "        output = predict_classification(train_data, train_label, row, num_neighbors)\n",
    "        predictions.append(output)\n",
    "    return predictions\n",
    "\n",
    "# Calculate accuracy percentage\n",
    "def accuracy_metric(actual, predicted):\n",
    "    correct = 0\n",
    "    for i in range(len(actual)):\n",
    "        if actual[i] == predicted[i]:\n",
    "            correct += 1\n",
    "    return correct / float(len(actual)) * 100.0\n",
    "\n",
    "# define model parameter\n",
    "num_neighbors = 5\n",
    "\n",
    "pred = k_nearest_neighbors(train_data, train_label, test_data, num_neighbors)\n",
    "print(\"Accuracy: %.2f %%\" % accuracy_metric(test_label, pred))\n",
    "print(\"\\nConfusion Matrix:\")\n",
    "print(confusion_matrix(test_label, pred))\n",
    "print(\"\\nClassification Report:\")\n",
    "print(classification_report(test_label, pred))"
   ]
  },
  {
   "cell_type": "markdown",
   "metadata": {},
   "source": [
    "### Compare the accuracy with different values of K (Chebyshev distance)"
   ]
  },
  {
   "cell_type": "code",
   "execution_count": 43,
   "metadata": {
    "scrolled": true
   },
   "outputs": [
    {
     "data": {
      "image/png": "[encoded data removed]",
      "text/plain": [
       "<Figure size 432x288 with 1 Axes>"
      ]
     },
     "metadata": {
      "needs_background": "light"
     },
     "output_type": "display_data"
    }
   ],
   "source": [
    "K_accuracy_chebyshev = []\n",
    "for values in range(1, 41, 2):\n",
    "    pred = k_nearest_neighbors(train_data, train_label, test_data, values)\n",
    "    K_accuracy_chebyshev.append(accuracy_metric(test_label, pred))\n",
    "plt.plot(range(1, 41, 2), K_accuracy_chebyshev, label=\"Chebyshev\", marker='o')\n",
    "plt.legend()\n",
    "plt.show()"
   ]
  },
  {
   "cell_type": "markdown",
   "metadata": {},
   "source": [
    "## Jaccard similarity"
   ]
  },
  {
   "cell_type": "code",
   "execution_count": 44,
   "metadata": {
    "scrolled": true
   },
   "outputs": [
    {
     "name": "stdout",
     "output_type": "stream",
     "text": [
      "Accuracy: 36.00 %\n",
      "\n",
      "Confusion Matrix:\n",
      "[[ 3  4 10]\n",
      " [ 3 11  3]\n",
      " [ 0 12  4]]\n",
      "\n",
      "Classification Report:\n",
      "                 precision    recall  f1-score   support\n",
      "\n",
      "    Iris-setosa       0.50      0.18      0.26        17\n",
      "Iris-versicolor       0.41      0.65      0.50        17\n",
      " Iris-virginica       0.24      0.25      0.24        16\n",
      "\n",
      "      micro avg       0.36      0.36      0.36        50\n",
      "      macro avg       0.38      0.36      0.33        50\n",
      "   weighted avg       0.38      0.36      0.34        50\n",
      "\n"
     ]
    }
   ],
   "source": [
    "# Calculate the Jaccard similarity between two vectors\n",
    "def jaccard_similarity(row1, row2):\n",
    "    s1 = set(row1)\n",
    "    s2 = set(row2)\n",
    "    return len(s1.intersection(s2)) / len(s1.union(s2))\n",
    "\n",
    "# Locate the most similar neighbors\n",
    "def get_neighbors(train_data, train_label, test_row, num_neighbors):\n",
    "    distances = []\n",
    "    for index in range(len(train_data)):\n",
    "        dist = jaccard_similarity(test_row, train_data[index])\n",
    "        distances.append((train_data[index], dist, train_label[index]))\n",
    "    distances.sort(key=lambda tup: tup[1])\n",
    "    neighbors = []\n",
    "    for i in range(num_neighbors):\n",
    "        neighbors.append([distances[i][0], distances[i][-1]])\n",
    "    return neighbors\n",
    "\n",
    "# Make a prediction with neighbors\n",
    "def predict_classification(train_data, train_label, test_row, num_neighbors):\n",
    "    neighbors = get_neighbors(train_data, train_label, test_row, num_neighbors)\n",
    "    output_values = [row[-1] for row in neighbors]\n",
    "    prediction = max(set(output_values), key=output_values.count)\n",
    "    return prediction\n",
    "\n",
    "# kNN Algorithm\n",
    "def k_nearest_neighbors(train_data, train_label, test_data, num_neighbors):\n",
    "    predictions = []\n",
    "    for row in test_data:\n",
    "        output = predict_classification(train_data, train_label, row, num_neighbors)\n",
    "        predictions.append(output)\n",
    "    return predictions\n",
    "\n",
    "# Calculate accuracy percentage\n",
    "def accuracy_metric(actual, predicted):\n",
    "    correct = 0\n",
    "    for i in range(len(actual)):\n",
    "        if actual[i] == predicted[i]:\n",
    "            correct += 1\n",
    "    return correct / float(len(actual)) * 100.0\n",
    "\n",
    "# define model parameter\n",
    "num_neighbors = 5\n",
    "\n",
    "pred = k_nearest_neighbors(train_data, train_label, test_data, num_neighbors)\n",
    "print(\"Accuracy: %.2f %%\" % accuracy_metric(test_label, pred))\n",
    "print(\"\\nConfusion Matrix:\")\n",
    "print(confusion_matrix(test_label, pred))\n",
    "print(\"\\nClassification Report:\")\n",
    "print(classification_report(test_label, pred))"
   ]
  },
  {
   "cell_type": "markdown",
   "metadata": {},
   "source": [
    "### Compare the accuracy with different values of K (Jaccard similarity)"
   ]
  },
  {
   "cell_type": "code",
   "execution_count": 45,
   "metadata": {
    "scrolled": true
   },
   "outputs": [
    {
     "data": {
      "image/png": "[encoded data removed]",
      "text/plain": [
       "<Figure size 432x288 with 1 Axes>"
      ]
     },
     "metadata": {
      "needs_background": "light"
     },
     "output_type": "display_data"
    }
   ],
   "source": [
    "K_accuracy_jaccard = []\n",
    "for values in range(1, 41, 2):\n",
    "    pred = k_nearest_neighbors(train_data, train_label, test_data, values)\n",
    "    K_accuracy_jaccard.append(accuracy_metric(test_label, pred))\n",
    "plt.plot(range(1, 41, 2), K_accuracy_jaccard, label=\"Jaccard\", marker='o')\n",
    "plt.legend()\n",
    "plt.show()"
   ]
  },
  {
   "cell_type": "markdown",
   "metadata": {},
   "source": [
    "## Cosine similarity"
   ]
  },
  {
   "cell_type": "code",
   "execution_count": 46,
   "metadata": {},
   "outputs": [
    {
     "name": "stdout",
     "output_type": "stream",
     "text": [
      "Accuracy: 100.00 %\n",
      "\n",
      "Confusion Matrix:\n",
      "[[17  0  0]\n",
      " [ 0 17  0]\n",
      " [ 0  0 16]]\n",
      "\n",
      "Classification Report:\n",
      "                 precision    recall  f1-score   support\n",
      "\n",
      "    Iris-setosa       1.00      1.00      1.00        17\n",
      "Iris-versicolor       1.00      1.00      1.00        17\n",
      " Iris-virginica       1.00      1.00      1.00        16\n",
      "\n",
      "      micro avg       1.00      1.00      1.00        50\n",
      "      macro avg       1.00      1.00      1.00        50\n",
      "   weighted avg       1.00      1.00      1.00        50\n",
      "\n"
     ]
    }
   ],
   "source": [
    "# Calculate the Cosine similarity between two vectors\n",
    "def cosine_similarity(row1, row2):\n",
    "    dot = np.dot(row1, row2)\n",
    "    norma = np.linalg.norm(row1)\n",
    "    normb = np.linalg.norm(row2)\n",
    "    return dot / (norma * normb)\n",
    "\n",
    "# Locate the most similar neighbors\n",
    "def get_neighbors(train_data, train_label, test_row, num_neighbors):\n",
    "    distances = []\n",
    "    for index in range(len(train_data)):\n",
    "        dist = cosine_similarity(test_row, train_data[index])\n",
    "        distances.append((train_data[index], dist, train_label[index]))\n",
    "    distances.sort(key=lambda tup: tup[1], reverse=True)\n",
    "    neighbors = []\n",
    "    for i in range(num_neighbors):\n",
    "        neighbors.append([distances[i][0], distances[i][-1]])\n",
    "    return neighbors\n",
    "\n",
    "# Make a prediction with neighbors\n",
    "def predict_classification(train_data, train_label, test_row, num_neighbors):\n",
    "    neighbors = get_neighbors(train_data, train_label, test_row, num_neighbors)\n",
    "    output_values = [row[-1] for row in neighbors]\n",
    "    prediction = max(set(output_values), key=output_values.count)\n",
    "    return prediction\n",
    "\n",
    "# kNN Algorithm\n",
    "def k_nearest_neighbors(train_data, train_label, test_data, num_neighbors):\n",
    "    predictions = []\n",
    "    for row in test_data:\n",
    "        output = predict_classification(train_data, train_label, row, num_neighbors)\n",
    "        predictions.append(output)\n",
    "    return predictions\n",
    "\n",
    "# Calculate accuracy percentage\n",
    "def accuracy_metric(actual, predicted):\n",
    "    correct = 0\n",
    "    for i in range(len(actual)):\n",
    "        if actual[i] == predicted[i]:\n",
    "            correct += 1\n",
    "    return correct / float(len(actual)) * 100.0\n",
    "\n",
    "# define model parameter\n",
    "num_neighbors = 5\n",
    "\n",
    "pred = k_nearest_neighbors(train_data, train_label, test_data, num_neighbors)\n",
    "print(\"Accuracy: %.2f %%\" % accuracy_metric(test_label, pred))\n",
    "print(\"\\nConfusion Matrix:\")\n",
    "print(confusion_matrix(test_label, pred))\n",
    "print(\"\\nClassification Report:\")\n",
    "print(classification_report(test_label, pred))"
   ]
  },
  {
   "cell_type": "markdown",
   "metadata": {},
   "source": [
    "### Compare the accuracy with different values of K (Cosine similarity)"
   ]
  },
  {
   "cell_type": "code",
   "execution_count": 47,
   "metadata": {},
   "outputs": [
    {
     "data": {
      "image/png": "[encoded data removed]",
      "text/plain": [
       "<Figure size 432x288 with 1 Axes>"
      ]
     },
     "metadata": {
      "needs_background": "light"
     },
     "output_type": "display_data"
    }
   ],
   "source": [
    "K_accuracy_cosine = []\n",
    "for values in range(1, 41, 2):\n",
    "    pred = k_nearest_neighbors(train_data, train_label, test_data, values)\n",
    "    K_accuracy_cosine.append(accuracy_metric(test_label, pred))\n",
    "plt.plot(range(1, 41, 2), K_accuracy_cosine, label=\"Cosine\", marker='o')\n",
    "plt.legend()\n",
    "plt.show()"
   ]
  },
  {
   "cell_type": "markdown",
   "metadata": {},
   "source": [
    "# Compare the accuracy with different  similarity function"
   ]
  },
  {
   "cell_type": "code",
   "execution_count": 49,
   "metadata": {
    "scrolled": true
   },
   "outputs": [
    {
     "data": {
      "image/png": "[encoded data removed]",
      "text/plain": [
       "<Figure size 432x288 with 1 Axes>"
      ]
     },
     "metadata": {
      "needs_background": "light"
     },
     "output_type": "display_data"
    }
   ],
   "source": [
    "plt.plot(range(1, 41, 2), K_accuracy_euclidean, label=\"Euclidean\", marker='o')\n",
    "plt.plot(range(1, 41, 2), K_accuracy_chebyshev, label=\"Chebyshev\", marker='o')\n",
    "plt.plot(range(1, 41, 2), K_accuracy_jaccard, label=\"Jaccard\", marker='o')\n",
    "plt.plot(range(1, 41, 2), K_accuracy_cosine, label=\"Cosine\", marker='o')\n",
    "plt.legend()\n",
    "plt.show()"
   ]
  }
 ],
 "metadata": {
  "kernelspec": {
   "display_name": "Python 3",
   "language": "python",
   "name": "python3"
  },
  "language_info": {
   "codemirror_mode": {
    "name": "ipython",
    "version": 3
   },
   "file_extension": ".py",
   "mimetype": "text/x-python",
   "name": "python",
   "nbconvert_exporter": "python",
   "pygments_lexer": "ipython3",
   "version": "3.7.3"
  }
 },
 "nbformat": 4,
 "nbformat_minor": 2
}
