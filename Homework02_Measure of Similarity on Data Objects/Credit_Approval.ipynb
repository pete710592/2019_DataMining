{
 "cells": [
  {
   "cell_type": "markdown",
   "metadata": {},
   "source": [
    "# Read dataset"
   ]
  },
  {
   "cell_type": "code",
   "execution_count": 1,
   "metadata": {},
   "outputs": [],
   "source": [
    "import os\n",
    "import numpy as np\n",
    "import pandas as pd\n",
    "from sklearn.model_selection import train_test_split\n",
    "from sklearn.metrics import classification_report, confusion_matrix\n",
    "import matplotlib.pyplot as plt\n",
    "\n",
    "# Read dataset from directory\n",
    "dir_data = './data/'\n",
    "raw_data = os.path.join(dir_data, 'crx.data')\n",
    "data = np.genfromtxt(raw_data, delimiter=\",\", dtype=str)\n",
    "label = ['A1', 'A2', 'A3', 'A4', 'A5', 'A6', 'A7', 'A8', 'A9', 'A10', 'A11', 'A12', 'A13', 'A14', 'A15', 'A16']"
   ]
  },
  {
   "cell_type": "markdown",
   "metadata": {},
   "source": [
    "# Put txt files into DataFrame"
   ]
  },
  {
   "cell_type": "code",
   "execution_count": 2,
   "metadata": {},
   "outputs": [
    {
     "data": {
      "text/html": [
       "<div>\n",
       "<style scoped>\n",
       "    .dataframe tbody tr th:only-of-type {\n",
       "        vertical-align: middle;\n",
       "    }\n",
       "\n",
       "    .dataframe tbody tr th {\n",
       "        vertical-align: top;\n",
       "    }\n",
       "\n",
       "    .dataframe thead th {\n",
       "        text-align: right;\n",
       "    }\n",
       "</style>\n",
       "<table border=\"1\" class=\"dataframe\">\n",
       "  <thead>\n",
       "    <tr style=\"text-align: right;\">\n",
       "      <th></th>\n",
       "      <th>A1</th>\n",
       "      <th>A2</th>\n",
       "      <th>A3</th>\n",
       "      <th>A4</th>\n",
       "      <th>A5</th>\n",
       "      <th>A6</th>\n",
       "      <th>A7</th>\n",
       "      <th>A8</th>\n",
       "      <th>A9</th>\n",
       "      <th>A10</th>\n",
       "      <th>A11</th>\n",
       "      <th>A12</th>\n",
       "      <th>A13</th>\n",
       "      <th>A14</th>\n",
       "      <th>A15</th>\n",
       "      <th>A16</th>\n",
       "    </tr>\n",
       "  </thead>\n",
       "  <tbody>\n",
       "    <tr>\n",
       "      <th>0</th>\n",
       "      <td>b</td>\n",
       "      <td>30.830000</td>\n",
       "      <td>0.000</td>\n",
       "      <td>u</td>\n",
       "      <td>g</td>\n",
       "      <td>w</td>\n",
       "      <td>v</td>\n",
       "      <td>1.25</td>\n",
       "      <td>t</td>\n",
       "      <td>t</td>\n",
       "      <td>01</td>\n",
       "      <td>f</td>\n",
       "      <td>g</td>\n",
       "      <td>00202</td>\n",
       "      <td>0</td>\n",
       "      <td>+</td>\n",
       "    </tr>\n",
       "    <tr>\n",
       "      <th>1</th>\n",
       "      <td>a</td>\n",
       "      <td>58.669998</td>\n",
       "      <td>4.460</td>\n",
       "      <td>u</td>\n",
       "      <td>g</td>\n",
       "      <td>q</td>\n",
       "      <td>h</td>\n",
       "      <td>3.04</td>\n",
       "      <td>t</td>\n",
       "      <td>t</td>\n",
       "      <td>06</td>\n",
       "      <td>f</td>\n",
       "      <td>g</td>\n",
       "      <td>00043</td>\n",
       "      <td>560</td>\n",
       "      <td>+</td>\n",
       "    </tr>\n",
       "    <tr>\n",
       "      <th>2</th>\n",
       "      <td>a</td>\n",
       "      <td>24.500000</td>\n",
       "      <td>0.500</td>\n",
       "      <td>u</td>\n",
       "      <td>g</td>\n",
       "      <td>q</td>\n",
       "      <td>h</td>\n",
       "      <td>1.50</td>\n",
       "      <td>t</td>\n",
       "      <td>f</td>\n",
       "      <td>0</td>\n",
       "      <td>f</td>\n",
       "      <td>g</td>\n",
       "      <td>00280</td>\n",
       "      <td>824</td>\n",
       "      <td>+</td>\n",
       "    </tr>\n",
       "    <tr>\n",
       "      <th>3</th>\n",
       "      <td>b</td>\n",
       "      <td>27.830000</td>\n",
       "      <td>1.540</td>\n",
       "      <td>u</td>\n",
       "      <td>g</td>\n",
       "      <td>w</td>\n",
       "      <td>v</td>\n",
       "      <td>3.75</td>\n",
       "      <td>t</td>\n",
       "      <td>t</td>\n",
       "      <td>05</td>\n",
       "      <td>t</td>\n",
       "      <td>g</td>\n",
       "      <td>00100</td>\n",
       "      <td>3</td>\n",
       "      <td>+</td>\n",
       "    </tr>\n",
       "    <tr>\n",
       "      <th>4</th>\n",
       "      <td>b</td>\n",
       "      <td>20.170000</td>\n",
       "      <td>5.625</td>\n",
       "      <td>u</td>\n",
       "      <td>g</td>\n",
       "      <td>w</td>\n",
       "      <td>v</td>\n",
       "      <td>1.71</td>\n",
       "      <td>t</td>\n",
       "      <td>f</td>\n",
       "      <td>0</td>\n",
       "      <td>f</td>\n",
       "      <td>s</td>\n",
       "      <td>00120</td>\n",
       "      <td>0</td>\n",
       "      <td>+</td>\n",
       "    </tr>\n",
       "  </tbody>\n",
       "</table>\n",
       "</div>"
      ],
      "text/plain": [
       "  A1         A2     A3 A4 A5 A6 A7    A8 A9 A10 A11 A12 A13    A14  A15 A16\n",
       "0  b  30.830000  0.000  u  g  w  v  1.25  t   t  01   f   g  00202    0   +\n",
       "1  a  58.669998  4.460  u  g  q  h  3.04  t   t  06   f   g  00043  560   +\n",
       "2  a  24.500000  0.500  u  g  q  h  1.50  t   f   0   f   g  00280  824   +\n",
       "3  b  27.830000  1.540  u  g  w  v  3.75  t   t  05   t   g  00100    3   +\n",
       "4  b  20.170000  5.625  u  g  w  v  1.71  t   f   0   f   s  00120    0   +"
      ]
     },
     "execution_count": 2,
     "metadata": {},
     "output_type": "execute_result"
    }
   ],
   "source": [
    "arrange_data = []\n",
    "for line in data:\n",
    "    arrange_data.append(line)\n",
    "    \n",
    "df = pd.DataFrame(arrange_data)\n",
    "df.columns = label\n",
    "\n",
    "# processing with missimg value\n",
    "df.replace('?', inplace=True)  # replace missing value with previous value\n",
    "\n",
    "df=df.astype({'A2':'float32',\n",
    "              'A3':'float32',\n",
    "              'A8':'float32'})\n",
    "df.head()"
   ]
  },
  {
   "cell_type": "markdown",
   "metadata": {},
   "source": [
    "# Split training data & testing data"
   ]
  },
  {
   "cell_type": "code",
   "execution_count": 3,
   "metadata": {},
   "outputs": [],
   "source": [
    "crx_data = df[['A1', 'A2', 'A3', 'A4', 'A5', 'A8', 'A15']]\n",
    "crx_label = df['A16']\n",
    "train_data , test_data , train_label , test_label = train_test_split(crx_data, crx_label, test_size=0.33, stratify=crx_label)\n",
    "\n",
    "# Convert dataframe into list\n",
    "train_data = train_data.values.tolist()\n",
    "train_label = train_label.values.tolist()\n",
    "test_data = test_data.values.tolist()\n",
    "test_label = test_label.values.tolist()"
   ]
  },
  {
   "cell_type": "markdown",
   "metadata": {},
   "source": [
    "# KNN Algorithm(K = 5)\n",
    "## Euclidean distance"
   ]
  },
  {
   "cell_type": "code",
   "execution_count": 4,
   "metadata": {},
   "outputs": [
    {
     "name": "stdout",
     "output_type": "stream",
     "text": [
      "Accuracy: 67.11 %\n",
      "\n",
      "Confusion Matrix:\n",
      "[[64 37]\n",
      " [38 89]]\n",
      "\n",
      "Classification Report:\n",
      "              precision    recall  f1-score   support\n",
      "\n",
      "           +       0.63      0.63      0.63       101\n",
      "           -       0.71      0.70      0.70       127\n",
      "\n",
      "   micro avg       0.67      0.67      0.67       228\n",
      "   macro avg       0.67      0.67      0.67       228\n",
      "weighted avg       0.67      0.67      0.67       228\n",
      "\n"
     ]
    }
   ],
   "source": [
    "# Calculate the Euclidean distance between two vectors\n",
    "def euclidean_distance(row1, row2):\n",
    "    distance = 0.0\n",
    "    for i in range(len(row1)-1):\n",
    "        distance += (row1[i] - row2[i])**2\n",
    "    return distance**0.5\n",
    "\n",
    "# Locate the most similar neighbors\n",
    "def get_neighbors(train_data, train_label, test_row, num_neighbors):\n",
    "    distances = []\n",
    "    for index in range(len(train_data)):\n",
    "        dist = euclidean_distance(test_row, train_data[index])\n",
    "        distances.append((train_data[index], dist, train_label[index]))\n",
    "    distances.sort(key=lambda tup: tup[1])\n",
    "    neighbors = []\n",
    "    for i in range(num_neighbors):\n",
    "        neighbors.append([distances[i][0], distances[i][-1]])\n",
    "    return neighbors\n",
    "\n",
    "# Make a prediction with neighbors\n",
    "def predict_classification(train_data, train_label, test_row, num_neighbors):\n",
    "    neighbors = get_neighbors(train_data, train_label, test_row, num_neighbors)\n",
    "    output_values = [row[-1] for row in neighbors]\n",
    "    prediction = max(set(output_values), key=output_values.count)\n",
    "    return prediction\n",
    "\n",
    "# kNN Algorithm\n",
    "def k_nearest_neighbors(train_data, train_label, test_data, num_neighbors):\n",
    "    predictions = []\n",
    "    for row in test_data:\n",
    "        output = predict_classification(train_data, train_label, row, num_neighbors)\n",
    "        predictions.append(output)\n",
    "    return predictions\n",
    "\n",
    "# Calculate accuracy percentage\n",
    "def accuracy_metric(actual, predicted):\n",
    "    correct = 0\n",
    "    for i in range(len(actual)):\n",
    "        if actual[i] == predicted[i]:\n",
    "            correct += 1\n",
    "    return correct / float(len(actual)) * 100.0\n",
    "\n",
    "# convert columns to int\n",
    "def str_column_to_int(dataset, column):\n",
    "    class_values = [row[column] for row in dataset]\n",
    "    unique = set(class_values)\n",
    "    lookup = dict()\n",
    "    for i, value in enumerate(unique):\n",
    "        lookup[value] = i\n",
    "        # print('[%s] => %d' % (value, i))\n",
    "    for row in dataset:\n",
    "        row[column] = lookup[row[column]]\n",
    "    return lookup        \n",
    "\n",
    "# convert columns to float\n",
    "for i in range(len(train_data[0])):\n",
    "    if(isinstance(train_data[0][i], (str))):\n",
    "        str_column_to_int(train_data, i)\n",
    "        str_column_to_int(test_data, i)\n",
    "\n",
    "# define model parameter\n",
    "num_neighbors = 5\n",
    "\n",
    "pred = k_nearest_neighbors(train_data, train_label, test_data, num_neighbors)\n",
    "print(\"Accuracy: %.2f %%\" % accuracy_metric(test_label, pred))\n",
    "print(\"\\nConfusion Matrix:\")\n",
    "print(confusion_matrix(test_label, pred))\n",
    "print(\"\\nClassification Report:\")\n",
    "print(classification_report(test_label, pred))"
   ]
  },
  {
   "cell_type": "markdown",
   "metadata": {},
   "source": [
    "### Compare the accuracy with different values of K (Euclidean distance)"
   ]
  },
  {
   "cell_type": "code",
   "execution_count": 5,
   "metadata": {},
   "outputs": [
    {
     "data": {
      "image/png": "[encoded data removed]",
      "text/plain": [
       "<Figure size 432x288 with 1 Axes>"
      ]
     },
     "metadata": {
      "needs_background": "light"
     },
     "output_type": "display_data"
    }
   ],
   "source": [
    "K_accuracy_euclidean = []\n",
    "for values in range(1, 41, 2):\n",
    "    pred = k_nearest_neighbors(train_data, train_label, test_data, values)\n",
    "    K_accuracy_euclidean.append(accuracy_metric(test_label, pred))\n",
    "plt.plot(range(1, 41, 2), K_accuracy_euclidean, label=\"Euclidean\", marker='o')\n",
    "plt.legend()\n",
    "plt.show()"
   ]
  },
  {
   "cell_type": "markdown",
   "metadata": {},
   "source": [
    "## Chebyshev distance"
   ]
  },
  {
   "cell_type": "code",
   "execution_count": 6,
   "metadata": {
    "scrolled": true
   },
   "outputs": [
    {
     "name": "stdout",
     "output_type": "stream",
     "text": [
      "Accuracy: 65.79 %\n",
      "\n",
      "Confusion Matrix:\n",
      "[[58 43]\n",
      " [35 92]]\n",
      "\n",
      "Classification Report:\n",
      "              precision    recall  f1-score   support\n",
      "\n",
      "           +       0.62      0.57      0.60       101\n",
      "           -       0.68      0.72      0.70       127\n",
      "\n",
      "   micro avg       0.66      0.66      0.66       228\n",
      "   macro avg       0.65      0.65      0.65       228\n",
      "weighted avg       0.66      0.66      0.66       228\n",
      "\n"
     ]
    }
   ],
   "source": [
    "# Calculate the Chebyshev distance between two vectors\n",
    "def chebyshev_distance(row1, row2):\n",
    "    distance = 0.0\n",
    "    for i in range(len(row1)-1):\n",
    "        distance += np.max(np.abs(row1[i] - row2[i]))\n",
    "    return distance\n",
    "\n",
    "# Locate the most similar neighbors\n",
    "def get_neighbors(train_data, train_label, test_row, num_neighbors):\n",
    "    distances = []\n",
    "    for index in range(len(train_data)):\n",
    "        dist = chebyshev_distance(test_row, train_data[index])\n",
    "        distances.append((train_data[index], dist, train_label[index]))\n",
    "    distances.sort(key=lambda tup: tup[1])\n",
    "    neighbors = []\n",
    "    for i in range(num_neighbors):\n",
    "        neighbors.append([distances[i][0], distances[i][-1]])\n",
    "    return neighbors\n",
    "\n",
    "# Make a prediction with neighbors\n",
    "def predict_classification(train_data, train_label, test_row, num_neighbors):\n",
    "    neighbors = get_neighbors(train_data, train_label, test_row, num_neighbors)\n",
    "    output_values = [row[-1] for row in neighbors]\n",
    "    prediction = max(set(output_values), key=output_values.count)\n",
    "    return prediction\n",
    "\n",
    "# kNN Algorithm\n",
    "def k_nearest_neighbors(train_data, train_label, test_data, num_neighbors):\n",
    "    predictions = []\n",
    "    for row in test_data:\n",
    "        output = predict_classification(train_data, train_label, row, num_neighbors)\n",
    "        predictions.append(output)\n",
    "    return predictions\n",
    "\n",
    "# Calculate accuracy percentage\n",
    "def accuracy_metric(actual, predicted):\n",
    "    correct = 0\n",
    "    for i in range(len(actual)):\n",
    "        if actual[i] == predicted[i]:\n",
    "            correct += 1\n",
    "    return correct / float(len(actual)) * 100.0\n",
    "\n",
    "# define model parameter\n",
    "num_neighbors = 5\n",
    "\n",
    "pred = k_nearest_neighbors(train_data, train_label, test_data, num_neighbors)\n",
    "print(\"Accuracy: %.2f %%\" % accuracy_metric(test_label, pred))\n",
    "print(\"\\nConfusion Matrix:\")\n",
    "print(confusion_matrix(test_label, pred))\n",
    "print(\"\\nClassification Report:\")\n",
    "print(classification_report(test_label, pred))"
   ]
  },
  {
   "cell_type": "markdown",
   "metadata": {},
   "source": [
    "### Compare the accuracy with different values of K (Chebyshev distance)"
   ]
  },
  {
   "cell_type": "code",
   "execution_count": 7,
   "metadata": {
    "scrolled": true
   },
   "outputs": [
    {
     "data": {
      "image/png": "[encoded data removed]",
      "text/plain": [
       "<Figure size 432x288 with 1 Axes>"
      ]
     },
     "metadata": {
      "needs_background": "light"
     },
     "output_type": "display_data"
    }
   ],
   "source": [
    "K_accuracy_chebyshev = []\n",
    "for values in range(1, 41, 2):\n",
    "    pred = k_nearest_neighbors(train_data, train_label, test_data, values)\n",
    "    K_accuracy_chebyshev.append(accuracy_metric(test_label, pred))\n",
    "plt.plot(range(1, 41, 2), K_accuracy_chebyshev, label=\"Chebyshev\", marker='o')\n",
    "plt.legend()\n",
    "plt.show()"
   ]
  },
  {
   "cell_type": "markdown",
   "metadata": {},
   "source": [
    "## Jaccard similarity"
   ]
  },
  {
   "cell_type": "code",
   "execution_count": 8,
   "metadata": {
    "scrolled": true
   },
   "outputs": [
    {
     "name": "stdout",
     "output_type": "stream",
     "text": [
      "Accuracy: 59.21 %\n",
      "\n",
      "Confusion Matrix:\n",
      "[[42 59]\n",
      " [34 93]]\n",
      "\n",
      "Classification Report:\n",
      "              precision    recall  f1-score   support\n",
      "\n",
      "           +       0.55      0.42      0.47       101\n",
      "           -       0.61      0.73      0.67       127\n",
      "\n",
      "   micro avg       0.59      0.59      0.59       228\n",
      "   macro avg       0.58      0.57      0.57       228\n",
      "weighted avg       0.59      0.59      0.58       228\n",
      "\n"
     ]
    }
   ],
   "source": [
    "# Calculate the Jaccard similarity between two vectors\n",
    "def jaccard_similarity(row1, row2):\n",
    "    s1 = set(row1)\n",
    "    s2 = set(row2)\n",
    "    return 1 - (len(s1.intersection(s2)) / len(s1.union(s2)))\n",
    "\n",
    "# Locate the most similar neighbors\n",
    "def get_neighbors(train_data, train_label, test_row, num_neighbors):\n",
    "    distances = []\n",
    "    for index in range(len(train_data)):\n",
    "        dist = jaccard_similarity(test_row, train_data[index])\n",
    "        distances.append((train_data[index], dist, train_label[index]))\n",
    "    distances.sort(key=lambda tup: tup[1])\n",
    "    neighbors = []\n",
    "    for i in range(num_neighbors):\n",
    "        neighbors.append([distances[i][0], distances[i][-1]])\n",
    "    return neighbors\n",
    "\n",
    "# Make a prediction with neighbors\n",
    "def predict_classification(train_data, train_label, test_row, num_neighbors):\n",
    "    neighbors = get_neighbors(train_data, train_label, test_row, num_neighbors)\n",
    "    output_values = [row[-1] for row in neighbors]\n",
    "    prediction = max(set(output_values), key=output_values.count)\n",
    "    return prediction\n",
    "\n",
    "# kNN Algorithm\n",
    "def k_nearest_neighbors(train_data, train_label, test_data, num_neighbors):\n",
    "    predictions = []\n",
    "    for row in test_data:\n",
    "        output = predict_classification(train_data, train_label, row, num_neighbors)\n",
    "        predictions.append(output)\n",
    "    return predictions\n",
    "\n",
    "# Calculate accuracy percentage\n",
    "def accuracy_metric(actual, predicted):\n",
    "    correct = 0\n",
    "    for i in range(len(actual)):\n",
    "        if actual[i] == predicted[i]:\n",
    "            correct += 1\n",
    "    return correct / float(len(actual)) * 100.0\n",
    "\n",
    "# define model parameter\n",
    "num_neighbors = 5\n",
    "\n",
    "pred = k_nearest_neighbors(train_data, train_label, test_data, num_neighbors)\n",
    "print(\"Accuracy: %.2f %%\" % accuracy_metric(test_label, pred))\n",
    "print(\"\\nConfusion Matrix:\")\n",
    "print(confusion_matrix(test_label, pred))\n",
    "print(\"\\nClassification Report:\")\n",
    "print(classification_report(test_label, pred))"
   ]
  },
  {
   "cell_type": "markdown",
   "metadata": {},
   "source": [
    "### Compare the accuracy with different values of K (Jaccard similarity)"
   ]
  },
  {
   "cell_type": "code",
   "execution_count": 9,
   "metadata": {
    "scrolled": true
   },
   "outputs": [
    {
     "data": {
      "image/png": "[encoded data removed]",
      "text/plain": [
       "<Figure size 432x288 with 1 Axes>"
      ]
     },
     "metadata": {
      "needs_background": "light"
     },
     "output_type": "display_data"
    }
   ],
   "source": [
    "K_accuracy_jaccard = []\n",
    "for values in range(1, 41, 2):\n",
    "    pred = k_nearest_neighbors(train_data, train_label, test_data, values)\n",
    "    K_accuracy_jaccard.append(accuracy_metric(test_label, pred))\n",
    "plt.plot(range(1, 41, 2), K_accuracy_jaccard, label=\"Jaccard\", marker='o')\n",
    "plt.legend()\n",
    "plt.show()"
   ]
  },
  {
   "cell_type": "markdown",
   "metadata": {},
   "source": [
    "## Cosine similarity"
   ]
  },
  {
   "cell_type": "code",
   "execution_count": 10,
   "metadata": {},
   "outputs": [
    {
     "name": "stdout",
     "output_type": "stream",
     "text": [
      "Accuracy: 58.77 %\n",
      "\n",
      "Confusion Matrix:\n",
      "[[51 50]\n",
      " [44 83]]\n",
      "\n",
      "Classification Report:\n",
      "              precision    recall  f1-score   support\n",
      "\n",
      "           +       0.54      0.50      0.52       101\n",
      "           -       0.62      0.65      0.64       127\n",
      "\n",
      "   micro avg       0.59      0.59      0.59       228\n",
      "   macro avg       0.58      0.58      0.58       228\n",
      "weighted avg       0.59      0.59      0.59       228\n",
      "\n"
     ]
    }
   ],
   "source": [
    "# Calculate the Cosine similarity between two vectors\n",
    "def cosine_similarity(row1, row2):\n",
    "    dot = np.dot(row1, row2)\n",
    "    norma = np.linalg.norm(row1)\n",
    "    normb = np.linalg.norm(row2)\n",
    "    return dot / (norma * normb)\n",
    "\n",
    "# Locate the most similar neighbors\n",
    "def get_neighbors(train_data, train_label, test_row, num_neighbors):\n",
    "    distances = []\n",
    "    for index in range(len(train_data)):\n",
    "        dist = cosine_similarity(test_row, train_data[index])\n",
    "        distances.append((train_data[index], dist, train_label[index]))\n",
    "    distances.sort(key=lambda tup: tup[1], reverse=True)\n",
    "    neighbors = []\n",
    "    for i in range(num_neighbors):\n",
    "        neighbors.append([distances[i][0], distances[i][-1]])\n",
    "    return neighbors\n",
    "\n",
    "# Make a prediction with neighbors\n",
    "def predict_classification(train_data, train_label, test_row, num_neighbors):\n",
    "    neighbors = get_neighbors(train_data, train_label, test_row, num_neighbors)\n",
    "    output_values = [row[-1] for row in neighbors]\n",
    "    prediction = max(set(output_values), key=output_values.count)\n",
    "    return prediction\n",
    "\n",
    "# kNN Algorithm\n",
    "def k_nearest_neighbors(train_data, train_label, test_data, num_neighbors):\n",
    "    predictions = []\n",
    "    for row in test_data:\n",
    "        output = predict_classification(train_data, train_label, row, num_neighbors)\n",
    "        predictions.append(output)\n",
    "    return predictions\n",
    "\n",
    "# Calculate accuracy percentage\n",
    "def accuracy_metric(actual, predicted):\n",
    "    correct = 0\n",
    "    for i in range(len(actual)):\n",
    "        if actual[i] == predicted[i]:\n",
    "            correct += 1\n",
    "    return correct / float(len(actual)) * 100.0\n",
    "\n",
    "# define model parameter\n",
    "num_neighbors = 5\n",
    "\n",
    "pred = k_nearest_neighbors(train_data, train_label, test_data, num_neighbors)\n",
    "print(\"Accuracy: %.2f %%\" % accuracy_metric(test_label, pred))\n",
    "print(\"\\nConfusion Matrix:\")\n",
    "print(confusion_matrix(test_label, pred))\n",
    "print(\"\\nClassification Report:\")\n",
    "print(classification_report(test_label, pred))"
   ]
  },
  {
   "cell_type": "markdown",
   "metadata": {},
   "source": [
    "### Compare the accuracy with different values of K (Cosine similarity)"
   ]
  },
  {
   "cell_type": "code",
   "execution_count": 11,
   "metadata": {},
   "outputs": [
    {
     "data": {
      "image/png": "[encoded data removed]",
      "text/plain": [
       "<Figure size 432x288 with 1 Axes>"
      ]
     },
     "metadata": {
      "needs_background": "light"
     },
     "output_type": "display_data"
    }
   ],
   "source": [
    "K_accuracy_cosine = []\n",
    "for values in range(1, 41, 2):\n",
    "    pred = k_nearest_neighbors(train_data, train_label, test_data, values)\n",
    "    K_accuracy_cosine.append(accuracy_metric(test_label, pred))\n",
    "plt.plot(range(1, 41, 2), K_accuracy_cosine, label=\"Cosine\", marker='o')\n",
    "plt.legend()\n",
    "plt.show()"
   ]
  },
  {
   "cell_type": "markdown",
   "metadata": {},
   "source": [
    "# Compare the accuracy with different  similarity function"
   ]
  },
  {
   "cell_type": "code",
   "execution_count": 12,
   "metadata": {
    "scrolled": true
   },
   "outputs": [
    {
     "data": {
      "image/png": "[encoded data removed]",
      "text/plain": [
       "<Figure size 432x288 with 1 Axes>"
      ]
     },
     "metadata": {
      "needs_background": "light"
     },
     "output_type": "display_data"
    }
   ],
   "source": [
    "plt.plot(range(1, 41, 2), K_accuracy_euclidean, label=\"Euclidean\", marker='o')\n",
    "plt.plot(range(1, 41, 2), K_accuracy_chebyshev, label=\"Chebyshev\", marker='o')\n",
    "plt.plot(range(1, 41, 2), K_accuracy_jaccard, label=\"Jaccard\", marker='o')\n",
    "plt.plot(range(1, 41, 2), K_accuracy_cosine, label=\"Cosine\", marker='o')\n",
    "plt.legend()\n",
    "plt.show()"
   ]
  }
 ],
 "metadata": {
  "kernelspec": {
   "display_name": "Python 3",
   "language": "python",
   "name": "python3"
  },
  "language_info": {
   "codemirror_mode": {
    "name": "ipython",
    "version": 3
   },
   "file_extension": ".py",
   "mimetype": "text/x-python",
   "name": "python",
   "nbconvert_exporter": "python",
   "pygments_lexer": "ipython3",
   "version": "3.7.3"
  }
 },
 "nbformat": 4,
 "nbformat_minor": 2
}
