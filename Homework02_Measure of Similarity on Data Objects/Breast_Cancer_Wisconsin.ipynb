{
 "cells": [
  {
   "cell_type": "markdown",
   "metadata": {},
   "source": [
    "# Read dataset"
   ]
  },
  {
   "cell_type": "code",
   "execution_count": 13,
   "metadata": {},
   "outputs": [],
   "source": [
    "import os\n",
    "import numpy as np\n",
    "import pandas as pd\n",
    "from sklearn.model_selection import train_test_split\n",
    "from sklearn.metrics import classification_report, confusion_matrix\n",
    "import matplotlib.pyplot as plt\n",
    "\n",
    "# Read dataset from directory\n",
    "dir_data = './data/'\n",
    "raw_data = os.path.join(dir_data, 'breast-cancer-wisconsin.data')\n",
    "data = np.genfromtxt(raw_data, delimiter=\",\", dtype=str)\n",
    "label = ['Sample code number', 'Clump Thickness', 'Uniformity of Cell Size',\n",
    "              'Uniformity of Cell Shape', 'Marginal Adhesion', 'Single Epithelial Cell Size',\n",
    "              'Bare Nuclei', 'Bland Chromatin', 'Normal Nucleoli', 'Mitoses', 'Class']"
   ]
  },
  {
   "cell_type": "markdown",
   "metadata": {},
   "source": [
    "# Put txt files into DataFrame"
   ]
  },
  {
   "cell_type": "code",
   "execution_count": 14,
   "metadata": {},
   "outputs": [
    {
     "data": {
      "text/html": [
       "<div>\n",
       "<style scoped>\n",
       "    .dataframe tbody tr th:only-of-type {\n",
       "        vertical-align: middle;\n",
       "    }\n",
       "\n",
       "    .dataframe tbody tr th {\n",
       "        vertical-align: top;\n",
       "    }\n",
       "\n",
       "    .dataframe thead th {\n",
       "        text-align: right;\n",
       "    }\n",
       "</style>\n",
       "<table border=\"1\" class=\"dataframe\">\n",
       "  <thead>\n",
       "    <tr style=\"text-align: right;\">\n",
       "      <th></th>\n",
       "      <th>Sample code number</th>\n",
       "      <th>Clump Thickness</th>\n",
       "      <th>Uniformity of Cell Size</th>\n",
       "      <th>Uniformity of Cell Shape</th>\n",
       "      <th>Marginal Adhesion</th>\n",
       "      <th>Single Epithelial Cell Size</th>\n",
       "      <th>Bare Nuclei</th>\n",
       "      <th>Bland Chromatin</th>\n",
       "      <th>Normal Nucleoli</th>\n",
       "      <th>Mitoses</th>\n",
       "      <th>Class</th>\n",
       "    </tr>\n",
       "  </thead>\n",
       "  <tbody>\n",
       "    <tr>\n",
       "      <th>0</th>\n",
       "      <td>1000025</td>\n",
       "      <td>5</td>\n",
       "      <td>1</td>\n",
       "      <td>1</td>\n",
       "      <td>1</td>\n",
       "      <td>2</td>\n",
       "      <td>1</td>\n",
       "      <td>3</td>\n",
       "      <td>1</td>\n",
       "      <td>1</td>\n",
       "      <td>2</td>\n",
       "    </tr>\n",
       "    <tr>\n",
       "      <th>1</th>\n",
       "      <td>1002945</td>\n",
       "      <td>5</td>\n",
       "      <td>4</td>\n",
       "      <td>4</td>\n",
       "      <td>5</td>\n",
       "      <td>7</td>\n",
       "      <td>10</td>\n",
       "      <td>3</td>\n",
       "      <td>2</td>\n",
       "      <td>1</td>\n",
       "      <td>2</td>\n",
       "    </tr>\n",
       "    <tr>\n",
       "      <th>2</th>\n",
       "      <td>1015425</td>\n",
       "      <td>3</td>\n",
       "      <td>1</td>\n",
       "      <td>1</td>\n",
       "      <td>1</td>\n",
       "      <td>2</td>\n",
       "      <td>2</td>\n",
       "      <td>3</td>\n",
       "      <td>1</td>\n",
       "      <td>1</td>\n",
       "      <td>2</td>\n",
       "    </tr>\n",
       "    <tr>\n",
       "      <th>3</th>\n",
       "      <td>1016277</td>\n",
       "      <td>6</td>\n",
       "      <td>8</td>\n",
       "      <td>8</td>\n",
       "      <td>1</td>\n",
       "      <td>3</td>\n",
       "      <td>4</td>\n",
       "      <td>3</td>\n",
       "      <td>7</td>\n",
       "      <td>1</td>\n",
       "      <td>2</td>\n",
       "    </tr>\n",
       "    <tr>\n",
       "      <th>4</th>\n",
       "      <td>1017023</td>\n",
       "      <td>4</td>\n",
       "      <td>1</td>\n",
       "      <td>1</td>\n",
       "      <td>3</td>\n",
       "      <td>2</td>\n",
       "      <td>1</td>\n",
       "      <td>3</td>\n",
       "      <td>1</td>\n",
       "      <td>1</td>\n",
       "      <td>2</td>\n",
       "    </tr>\n",
       "  </tbody>\n",
       "</table>\n",
       "</div>"
      ],
      "text/plain": [
       "  Sample code number  Clump Thickness  Uniformity of Cell Size  \\\n",
       "0            1000025                5                        1   \n",
       "1            1002945                5                        4   \n",
       "2            1015425                3                        1   \n",
       "3            1016277                6                        8   \n",
       "4            1017023                4                        1   \n",
       "\n",
       "   Uniformity of Cell Shape  Marginal Adhesion  Single Epithelial Cell Size  \\\n",
       "0                         1                  1                            2   \n",
       "1                         4                  5                            7   \n",
       "2                         1                  1                            2   \n",
       "3                         8                  1                            3   \n",
       "4                         1                  3                            2   \n",
       "\n",
       "   Bare Nuclei  Bland Chromatin  Normal Nucleoli  Mitoses Class  \n",
       "0            1                3                1        1     2  \n",
       "1           10                3                2        1     2  \n",
       "2            2                3                1        1     2  \n",
       "3            4                3                7        1     2  \n",
       "4            1                3                1        1     2  "
      ]
     },
     "execution_count": 14,
     "metadata": {},
     "output_type": "execute_result"
    }
   ],
   "source": [
    "arrange_data = []\n",
    "for line in data:\n",
    "    arrange_data.append(line)\n",
    "\n",
    "df = pd.DataFrame(arrange_data)\n",
    "df.columns = label\n",
    "\n",
    "# processing with missimg value\n",
    "for className in df:\n",
    "    for index in range(len(df[className])):\n",
    "        if(df[className][index] == '?'):\n",
    "            df[className][index] = df[className].mode()  # replace missing value with mode\n",
    "\n",
    "df=df.astype({'Clump Thickness':'int32',\n",
    "              'Uniformity of Cell Size':'int32',\n",
    "              'Uniformity of Cell Shape':'int32',\n",
    "              'Marginal Adhesion':'int32',\n",
    "              'Single Epithelial Cell Size':'int32',\n",
    "              'Bare Nuclei':'int32',\n",
    "              'Bland Chromatin':'int32',\n",
    "              'Normal Nucleoli':'int32',\n",
    "              'Mitoses':'int32'})\n",
    "df.head()"
   ]
  },
  {
   "cell_type": "markdown",
   "metadata": {},
   "source": [
    "# Split training data & testing data"
   ]
  },
  {
   "cell_type": "code",
   "execution_count": 15,
   "metadata": {},
   "outputs": [],
   "source": [
    "bcw_data = df[df.columns[1:-1]]\n",
    "bcw_label = df['Class']\n",
    "train_data , test_data , train_label , test_label = train_test_split(bcw_data, bcw_label, test_size=0.33, stratify=bcw_label)\n",
    "\n",
    "# Convert dataframe into list\n",
    "train_data = train_data.values.tolist()\n",
    "train_label = train_label.values.tolist()\n",
    "test_data = test_data.values.tolist()\n",
    "test_label = test_label.values.tolist()"
   ]
  },
  {
   "cell_type": "markdown",
   "metadata": {},
   "source": [
    "# KNN Algorithm(K = 5)\n",
    "## Euclidean distance"
   ]
  },
  {
   "cell_type": "code",
   "execution_count": 16,
   "metadata": {},
   "outputs": [
    {
     "name": "stdout",
     "output_type": "stream",
     "text": [
      "Accuracy: 97.84 %\n",
      "\n",
      "Confusion Matrix:\n",
      "[[147   4]\n",
      " [  1  79]]\n",
      "\n",
      "Classification Report:\n",
      "              precision    recall  f1-score   support\n",
      "\n",
      "           2       0.99      0.97      0.98       151\n",
      "           4       0.95      0.99      0.97        80\n",
      "\n",
      "   micro avg       0.98      0.98      0.98       231\n",
      "   macro avg       0.97      0.98      0.98       231\n",
      "weighted avg       0.98      0.98      0.98       231\n",
      "\n"
     ]
    }
   ],
   "source": [
    "# Calculate the Euclidean distance between two vectors\n",
    "def euclidean_distance(row1, row2):\n",
    "    distance = 0.0\n",
    "    for i in range(len(row1)-1):\n",
    "        distance += (row1[i] - row2[i])**2\n",
    "    return distance**0.5\n",
    "\n",
    "# Locate the most similar neighbors\n",
    "def get_neighbors(train_data, train_label, test_row, num_neighbors):\n",
    "    distances = []\n",
    "    for index in range(len(train_data)):\n",
    "        dist = euclidean_distance(test_row, train_data[index])\n",
    "        distances.append((train_data[index], dist, train_label[index]))\n",
    "    distances.sort(key=lambda tup: tup[1])\n",
    "    neighbors = []\n",
    "    for i in range(num_neighbors):\n",
    "        neighbors.append([distances[i][0], distances[i][-1]])\n",
    "    return neighbors\n",
    "\n",
    "# Make a prediction with neighbors\n",
    "def predict_classification(train_data, train_label, test_row, num_neighbors):\n",
    "    neighbors = get_neighbors(train_data, train_label, test_row, num_neighbors)\n",
    "    output_values = [row[-1] for row in neighbors]\n",
    "    prediction = max(set(output_values), key=output_values.count)\n",
    "    return prediction\n",
    "\n",
    "# kNN Algorithm\n",
    "def k_nearest_neighbors(train_data, train_label, test_data, num_neighbors):\n",
    "    predictions = []\n",
    "    for row in test_data:\n",
    "        output = predict_classification(train_data, train_label, row, num_neighbors)\n",
    "        predictions.append(output)\n",
    "    return predictions\n",
    "\n",
    "# Calculate accuracy percentage\n",
    "def accuracy_metric(actual, predicted):\n",
    "    correct = 0\n",
    "    for i in range(len(actual)):\n",
    "        if actual[i] == predicted[i]:\n",
    "            correct += 1\n",
    "    return correct / float(len(actual)) * 100.0\n",
    "\n",
    "# define model parameter\n",
    "num_neighbors = 5\n",
    "\n",
    "pred = k_nearest_neighbors(train_data, train_label, test_data, num_neighbors)\n",
    "print(\"Accuracy: %.2f %%\" % accuracy_metric(test_label, pred))\n",
    "print(\"\\nConfusion Matrix:\")\n",
    "print(confusion_matrix(test_label, pred))\n",
    "print(\"\\nClassification Report:\")\n",
    "print(classification_report(test_label, pred))"
   ]
  },
  {
   "cell_type": "markdown",
   "metadata": {},
   "source": [
    "### Compare the accuracy with different values of K (Euclidean distance)"
   ]
  },
  {
   "cell_type": "code",
   "execution_count": 17,
   "metadata": {},
   "outputs": [
    {
     "data": {
      "image/png": "[encoded data removed]",
      "text/plain": [
       "<Figure size 432x288 with 1 Axes>"
      ]
     },
     "metadata": {
      "needs_background": "light"
     },
     "output_type": "display_data"
    }
   ],
   "source": [
    "K_accuracy_euclidean = []\n",
    "for values in range(1, 41, 2):\n",
    "    pred = k_nearest_neighbors(train_data, train_label, test_data, values)\n",
    "    K_accuracy_euclidean.append(accuracy_metric(test_label, pred))\n",
    "plt.plot(range(1, 41, 2), K_accuracy_euclidean, label=\"Euclidean\", marker='o')\n",
    "plt.legend()\n",
    "plt.show()"
   ]
  },
  {
   "cell_type": "markdown",
   "metadata": {},
   "source": [
    "## Chebyshev distance"
   ]
  },
  {
   "cell_type": "code",
   "execution_count": 18,
   "metadata": {
    "scrolled": true
   },
   "outputs": [
    {
     "name": "stdout",
     "output_type": "stream",
     "text": [
      "Accuracy: 97.40 %\n",
      "\n",
      "Confusion Matrix:\n",
      "[[147   4]\n",
      " [  2  78]]\n",
      "\n",
      "Classification Report:\n",
      "              precision    recall  f1-score   support\n",
      "\n",
      "           2       0.99      0.97      0.98       151\n",
      "           4       0.95      0.97      0.96        80\n",
      "\n",
      "   micro avg       0.97      0.97      0.97       231\n",
      "   macro avg       0.97      0.97      0.97       231\n",
      "weighted avg       0.97      0.97      0.97       231\n",
      "\n"
     ]
    }
   ],
   "source": [
    "# Calculate the Chebyshev distance between two vectors\n",
    "def chebyshev_distance(row1, row2):\n",
    "    distance = 0.0\n",
    "    for i in range(len(row1)-1):\n",
    "        distance += np.max(np.abs(row1[i] - row2[i]))\n",
    "    return distance\n",
    "\n",
    "# Locate the most similar neighbors\n",
    "def get_neighbors(train_data, train_label, test_row, num_neighbors):\n",
    "    distances = []\n",
    "    for index in range(len(train_data)):\n",
    "        dist = chebyshev_distance(test_row, train_data[index])\n",
    "        distances.append((train_data[index], dist, train_label[index]))\n",
    "    distances.sort(key=lambda tup: tup[1])\n",
    "    neighbors = []\n",
    "    for i in range(num_neighbors):\n",
    "        neighbors.append([distances[i][0], distances[i][-1]])\n",
    "    return neighbors\n",
    "\n",
    "# Make a prediction with neighbors\n",
    "def predict_classification(train_data, train_label, test_row, num_neighbors):\n",
    "    neighbors = get_neighbors(train_data, train_label, test_row, num_neighbors)\n",
    "    output_values = [row[-1] for row in neighbors]\n",
    "    prediction = max(set(output_values), key=output_values.count)\n",
    "    return prediction\n",
    "\n",
    "# kNN Algorithm\n",
    "def k_nearest_neighbors(train_data, train_label, test_data, num_neighbors):\n",
    "    predictions = []\n",
    "    for row in test_data:\n",
    "        output = predict_classification(train_data, train_label, row, num_neighbors)\n",
    "        predictions.append(output)\n",
    "    return predictions\n",
    "\n",
    "# Calculate accuracy percentage\n",
    "def accuracy_metric(actual, predicted):\n",
    "    correct = 0\n",
    "    for i in range(len(actual)):\n",
    "        if actual[i] == predicted[i]:\n",
    "            correct += 1\n",
    "    return correct / float(len(actual)) * 100.0\n",
    "\n",
    "# define model parameter\n",
    "num_neighbors = 5\n",
    "\n",
    "pred = k_nearest_neighbors(train_data, train_label, test_data, num_neighbors)\n",
    "print(\"Accuracy: %.2f %%\" % accuracy_metric(test_label, pred))\n",
    "print(\"\\nConfusion Matrix:\")\n",
    "print(confusion_matrix(test_label, pred))\n",
    "print(\"\\nClassification Report:\")\n",
    "print(classification_report(test_label, pred))"
   ]
  },
  {
   "cell_type": "markdown",
   "metadata": {},
   "source": [
    "### Compare the accuracy with different values of K (Chebyshev distance)"
   ]
  },
  {
   "cell_type": "code",
   "execution_count": 19,
   "metadata": {
    "scrolled": true
   },
   "outputs": [
    {
     "data": {
      "image/png": "[encoded data removed]",
      "text/plain": [
       "<Figure size 432x288 with 1 Axes>"
      ]
     },
     "metadata": {
      "needs_background": "light"
     },
     "output_type": "display_data"
    }
   ],
   "source": [
    "K_accuracy_chebyshev = []\n",
    "for values in range(1, 41, 2):\n",
    "    pred = k_nearest_neighbors(train_data, train_label, test_data, values)\n",
    "    K_accuracy_chebyshev.append(accuracy_metric(test_label, pred))\n",
    "plt.plot(range(1, 41, 2), K_accuracy_chebyshev, label=\"Chebyshev\", marker='o')\n",
    "plt.legend()\n",
    "plt.show()"
   ]
  },
  {
   "cell_type": "markdown",
   "metadata": {},
   "source": [
    "## Jaccard similarity"
   ]
  },
  {
   "cell_type": "code",
   "execution_count": 20,
   "metadata": {
    "scrolled": true
   },
   "outputs": [
    {
     "name": "stdout",
     "output_type": "stream",
     "text": [
      "Accuracy: 95.24 %\n",
      "\n",
      "Confusion Matrix:\n",
      "[[145   6]\n",
      " [  5  75]]\n",
      "\n",
      "Classification Report:\n",
      "              precision    recall  f1-score   support\n",
      "\n",
      "           2       0.97      0.96      0.96       151\n",
      "           4       0.93      0.94      0.93        80\n",
      "\n",
      "   micro avg       0.95      0.95      0.95       231\n",
      "   macro avg       0.95      0.95      0.95       231\n",
      "weighted avg       0.95      0.95      0.95       231\n",
      "\n"
     ]
    }
   ],
   "source": [
    "# Calculate the Jaccard similarity between two vectors\n",
    "def jaccard_similarity(row1, row2):\n",
    "    s1 = set(row1)\n",
    "    s2 = set(row2)\n",
    "    return 1 - (len(s1.intersection(s2)) / len(s1.union(s2)))\n",
    "\n",
    "# Locate the most similar neighbors\n",
    "def get_neighbors(train_data, train_label, test_row, num_neighbors):\n",
    "    distances = []\n",
    "    for index in range(len(train_data)):\n",
    "        dist = jaccard_similarity(test_row, train_data[index])\n",
    "        distances.append((train_data[index], dist, train_label[index]))\n",
    "    distances.sort(key=lambda tup: tup[1])\n",
    "    neighbors = []\n",
    "    for i in range(num_neighbors):\n",
    "        neighbors.append([distances[i][0], distances[i][-1]])\n",
    "    return neighbors\n",
    "\n",
    "# Make a prediction with neighbors\n",
    "def predict_classification(train_data, train_label, test_row, num_neighbors):\n",
    "    neighbors = get_neighbors(train_data, train_label, test_row, num_neighbors)\n",
    "    output_values = [row[-1] for row in neighbors]\n",
    "    prediction = max(set(output_values), key=output_values.count)\n",
    "    return prediction\n",
    "\n",
    "# kNN Algorithm\n",
    "def k_nearest_neighbors(train_data, train_label, test_data, num_neighbors):\n",
    "    predictions = []\n",
    "    for row in test_data:\n",
    "        output = predict_classification(train_data, train_label, row, num_neighbors)\n",
    "        predictions.append(output)\n",
    "    return predictions\n",
    "\n",
    "# Calculate accuracy percentage\n",
    "def accuracy_metric(actual, predicted):\n",
    "    correct = 0\n",
    "    for i in range(len(actual)):\n",
    "        if actual[i] == predicted[i]:\n",
    "            correct += 1\n",
    "    return correct / float(len(actual)) * 100.0\n",
    "\n",
    "# define model parameter\n",
    "num_neighbors = 5\n",
    "\n",
    "pred = k_nearest_neighbors(train_data, train_label, test_data, num_neighbors)\n",
    "print(\"Accuracy: %.2f %%\" % accuracy_metric(test_label, pred))\n",
    "print(\"\\nConfusion Matrix:\")\n",
    "print(confusion_matrix(test_label, pred))\n",
    "print(\"\\nClassification Report:\")\n",
    "print(classification_report(test_label, pred))"
   ]
  },
  {
   "cell_type": "markdown",
   "metadata": {},
   "source": [
    "### Compare the accuracy with different values of K (Jaccard similarity)"
   ]
  },
  {
   "cell_type": "code",
   "execution_count": 21,
   "metadata": {
    "scrolled": true
   },
   "outputs": [
    {
     "data": {
      "image/png": "[encoded data removed]",
      "text/plain": [
       "<Figure size 432x288 with 1 Axes>"
      ]
     },
     "metadata": {
      "needs_background": "light"
     },
     "output_type": "display_data"
    }
   ],
   "source": [
    "K_accuracy_jaccard = []\n",
    "for values in range(1, 41, 2):\n",
    "    pred = k_nearest_neighbors(train_data, train_label, test_data, values)\n",
    "    K_accuracy_jaccard.append(accuracy_metric(test_label, pred))\n",
    "plt.plot(range(1, 41, 2), K_accuracy_jaccard, label=\"Jaccard\", marker='o')\n",
    "plt.legend()\n",
    "plt.show()"
   ]
  },
  {
   "cell_type": "markdown",
   "metadata": {},
   "source": [
    "## Cosine similarity"
   ]
  },
  {
   "cell_type": "code",
   "execution_count": 22,
   "metadata": {},
   "outputs": [
    {
     "name": "stdout",
     "output_type": "stream",
     "text": [
      "Accuracy: 89.18 %\n",
      "\n",
      "Confusion Matrix:\n",
      "[[135  16]\n",
      " [  9  71]]\n",
      "\n",
      "Classification Report:\n",
      "              precision    recall  f1-score   support\n",
      "\n",
      "           2       0.94      0.89      0.92       151\n",
      "           4       0.82      0.89      0.85        80\n",
      "\n",
      "   micro avg       0.89      0.89      0.89       231\n",
      "   macro avg       0.88      0.89      0.88       231\n",
      "weighted avg       0.90      0.89      0.89       231\n",
      "\n"
     ]
    }
   ],
   "source": [
    "# Calculate the Cosine similarity between two vectors\n",
    "def cosine_similarity(row1, row2):\n",
    "    dot = np.dot(row1, row2)\n",
    "    norma = np.linalg.norm(row1)\n",
    "    normb = np.linalg.norm(row2)\n",
    "    return dot / (norma * normb)\n",
    "\n",
    "# Locate the most similar neighbors\n",
    "def get_neighbors(train_data, train_label, test_row, num_neighbors):\n",
    "    distances = []\n",
    "    for index in range(len(train_data)):\n",
    "        dist = cosine_similarity(test_row, train_data[index])\n",
    "        distances.append((train_data[index], dist, train_label[index]))\n",
    "    distances.sort(key=lambda tup: tup[1], reverse=True)\n",
    "    neighbors = []\n",
    "    for i in range(num_neighbors):\n",
    "        neighbors.append([distances[i][0], distances[i][-1]])\n",
    "    return neighbors\n",
    "\n",
    "# Make a prediction with neighbors\n",
    "def predict_classification(train_data, train_label, test_row, num_neighbors):\n",
    "    neighbors = get_neighbors(train_data, train_label, test_row, num_neighbors)\n",
    "    output_values = [row[-1] for row in neighbors]\n",
    "    prediction = max(set(output_values), key=output_values.count)\n",
    "    return prediction\n",
    "\n",
    "# kNN Algorithm\n",
    "def k_nearest_neighbors(train_data, train_label, test_data, num_neighbors):\n",
    "    predictions = []\n",
    "    for row in test_data:\n",
    "        output = predict_classification(train_data, train_label, row, num_neighbors)\n",
    "        predictions.append(output)\n",
    "    return predictions\n",
    "\n",
    "# Calculate accuracy percentage\n",
    "def accuracy_metric(actual, predicted):\n",
    "    correct = 0\n",
    "    for i in range(len(actual)):\n",
    "        if actual[i] == predicted[i]:\n",
    "            correct += 1\n",
    "    return correct / float(len(actual)) * 100.0\n",
    "\n",
    "# define model parameter\n",
    "num_neighbors = 5\n",
    "\n",
    "pred = k_nearest_neighbors(train_data, train_label, test_data, num_neighbors)\n",
    "print(\"Accuracy: %.2f %%\" % accuracy_metric(test_label, pred))\n",
    "print(\"\\nConfusion Matrix:\")\n",
    "print(confusion_matrix(test_label, pred))\n",
    "print(\"\\nClassification Report:\")\n",
    "print(classification_report(test_label, pred))"
   ]
  },
  {
   "cell_type": "markdown",
   "metadata": {},
   "source": [
    "### Compare the accuracy with different values of K (Cosine similarity)"
   ]
  },
  {
   "cell_type": "code",
   "execution_count": 23,
   "metadata": {},
   "outputs": [
    {
     "data": {
      "image/png": "[encoded data removed]",
      "text/plain": [
       "<Figure size 432x288 with 1 Axes>"
      ]
     },
     "metadata": {
      "needs_background": "light"
     },
     "output_type": "display_data"
    }
   ],
   "source": [
    "K_accuracy_cosine = []\n",
    "for values in range(1, 41, 2):\n",
    "    pred = k_nearest_neighbors(train_data, train_label, test_data, values)\n",
    "    K_accuracy_cosine.append(accuracy_metric(test_label, pred))\n",
    "plt.plot(range(1, 41, 2), K_accuracy_cosine, label=\"Cosine\", marker='o')\n",
    "plt.legend()\n",
    "plt.show()"
   ]
  },
  {
   "cell_type": "markdown",
   "metadata": {},
   "source": [
    "# Compare the accuracy with different  similarity function"
   ]
  },
  {
   "cell_type": "code",
   "execution_count": 24,
   "metadata": {
    "scrolled": true
   },
   "outputs": [
    {
     "data": {
      "image/png": "[encoded data removed]",
      "text/plain": [
       "<Figure size 432x288 with 1 Axes>"
      ]
     },
     "metadata": {
      "needs_background": "light"
     },
     "output_type": "display_data"
    }
   ],
   "source": [
    "plt.plot(range(1, 41, 2), K_accuracy_euclidean, label=\"Euclidean\", marker='o')\n",
    "plt.plot(range(1, 41, 2), K_accuracy_chebyshev, label=\"Chebyshev\", marker='o')\n",
    "plt.plot(range(1, 41, 2), K_accuracy_jaccard, label=\"Jaccard\", marker='o')\n",
    "plt.plot(range(1, 41, 2), K_accuracy_cosine, label=\"Cosine\", marker='o')\n",
    "plt.legend()\n",
    "plt.show()"
   ]
  }
 ],
 "metadata": {
  "kernelspec": {
   "display_name": "Python 3",
   "language": "python",
   "name": "python3"
  },
  "language_info": {
   "codemirror_mode": {
    "name": "ipython",
    "version": 3
   },
   "file_extension": ".py",
   "mimetype": "text/x-python",
   "name": "python",
   "nbconvert_exporter": "python",
   "pygments_lexer": "ipython3",
   "version": "3.7.3"
  }
 },
 "nbformat": 4,
 "nbformat_minor": 2
}
